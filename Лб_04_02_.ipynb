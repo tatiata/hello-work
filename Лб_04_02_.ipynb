{
  "nbformat": 4,
  "nbformat_minor": 0,
  "metadata": {
    "colab": {
      "name": "Лб 04.02.",
      "provenance": [],
      "authorship_tag": "ABX9TyOvZ7suwpthyk6uYVVZJoAU",
      "include_colab_link": true
    },
    "kernelspec": {
      "name": "python3",
      "display_name": "Python 3"
    }
  },
  "cells": [
    {
      "cell_type": "markdown",
      "metadata": {
        "id": "view-in-github",
        "colab_type": "text"
      },
      "source": [
        "<a href=\"https://colab.research.google.com/github/tatiata/hello-work/blob/main/%D0%9B%D0%B1_04_02_.ipynb\" target=\"_parent\"><img src=\"https://colab.research.google.com/assets/colab-badge.svg\" alt=\"Open In Colab\"/></a>"
      ]
    },
    {
      "cell_type": "markdown",
      "metadata": {
        "id": "LMurIT6SHevU"
      },
      "source": [
        "№4.2.1\r\n",
        "Рассчитать значение f при заданном значении вещественного числа x:\r\n",
        "При выводе на экран оставьте 2 знака после запятой."
      ]
    },
    {
      "cell_type": "code",
      "metadata": {
        "colab": {
          "base_uri": "https://localhost:8080/"
        },
        "id": "GmFYZnSvHmG_",
        "outputId": "43d85619-7798-4d9e-a683-1f60da793c35"
      },
      "source": [
        "import math\r\n",
        "\r\n",
        "x = float(input(\"x= \"))\r\n",
        "\r\n",
        "if x >= 0:\r\n",
        "    f = math.sqrt(x) + x**2\r\n",
        "    print(round(f, 2))\r\n",
        "else:\r\n",
        "    f = 1/x\r\n",
        "    print(round(f, 2))\r\n"
      ],
      "execution_count": null,
      "outputs": [
        {
          "output_type": "stream",
          "text": [
            "x= 10\n",
            "103.16\n"
          ],
          "name": "stdout"
        }
      ]
    },
    {
      "cell_type": "markdown",
      "metadata": {
        "id": "FbJjH9mDbUti"
      },
      "source": [
        "№ 4.2.2\r\n",
        "\r\n",
        "Определите максимальное и минимальное значения из двух различных целых чисел."
      ]
    },
    {
      "cell_type": "code",
      "metadata": {
        "colab": {
          "base_uri": "https://localhost:8080/"
        },
        "id": "v2DMbgzVY1mx",
        "outputId": "2056cdf7-545b-463e-8d3f-2081406e05c3"
      },
      "source": [
        "# Задание task_04_02_02.\r\n",
        "# Выполнил: Молодцова\r\n",
        "# Группа: АДЭУ-201\r\n",
        "\r\n",
        "a1 = int(input('Введите первое число:'))\r\n",
        "a2 = int(input('Введите второе число:'))\r\n",
        "\r\n",
        "# Переменная 'a_min' должна содержать минимум, 'a_max' - максимум\r\n",
        "if a1>a2:\r\n",
        "    a_max=a1\r\n",
        "    a_min=a2\r\n",
        "else:\r\n",
        "    a_max=a2\r\n",
        "    a_min=a1\r\n",
        "\r\n",
        "print('Максимум:', a_max, 'Минимум:', a_min)\r\n",
        "\r\n",
        "# --------------\r\n",
        "# Пример вывода:\r\n",
        "#\r\n",
        "# Введите первое число: 1\r\n",
        "# Введите второе число: 2\r\n",
        "# Максимум: 2, минимум: 1\r\n",
        "\r\n",
        "# Введите первое число: 100\r\n",
        "# Введите второе число: -1\r\n",
        "# Максимум: 100, минимум: -1\r\n"
      ],
      "execution_count": null,
      "outputs": [
        {
          "output_type": "stream",
          "text": [
            "Введите первое число:100\n",
            "Введите второе число:-1\n",
            "Максимум: 100 Минимум: -1\n"
          ],
          "name": "stdout"
        }
      ]
    },
    {
      "cell_type": "markdown",
      "metadata": {
        "id": "dyl88AhReIsr"
      },
      "source": [
        "№ 4.2.3\r\n",
        "\r\n",
        "Вася пытается высунуть голову в форточку размерами a и b см. Приняв условно, что его голова - круглая диаметром d см, определите, сможет ли Вася сделать это. Для прохождения головы в форточку необходим зазор в 1 см. с каждой стороны."
      ]
    },
    {
      "cell_type": "code",
      "metadata": {
        "colab": {
          "base_uri": "https://localhost:8080/"
        },
        "id": "1Y0rz17TeKZD",
        "outputId": "08735bf3-4e31-44b1-8167-f2f2d4eb547d"
      },
      "source": [
        "#Задание task_04_02_03.\r\n",
        "# Выполнил: Молодцова\r\n",
        "# Группа: АДЭУ-201\r\n",
        "\r\n",
        "\r\n",
        "a = int(input('Ширина форточки:'))\r\n",
        "b = int(input('Длина форточки:'))\r\n",
        "d = int(input('Диаметр головы:'))\r\n",
        "\r\n",
        "if a>d+1 and b>d+1:\r\n",
        "    print(\"Да\")\r\n",
        "else:\r\n",
        "  print(\"Нет\")\r\n",
        "\r\n",
        "    \r\n",
        "# --------------\r\n",
        "# Пример вывода:\r\n",
        "#\r\n",
        "# Ширина форточки: 5\r\n",
        "# Высота форточки: 6\r\n",
        "# Диаметр головы: 6\r\n",
        "# Нет\r\n",
        "\r\n",
        "# Ширина форточки: 6\r\n",
        "# Высота форточки: 7\r\n",
        "# Диаметр головы: 4\r\n",
        "# Да\r\n"
      ],
      "execution_count": null,
      "outputs": [
        {
          "output_type": "stream",
          "text": [
            "Ширина форточки:6\n",
            "Длина форточки:7\n",
            "Диаметр головы:4\n",
            "Да\n"
          ],
          "name": "stdout"
        }
      ]
    },
    {
      "cell_type": "markdown",
      "metadata": {
        "id": "tJg1QjT2iMX0"
      },
      "source": [
        "№ 4.2.4\r\n",
        "\r\n",
        "Известны год и номер месяца сегодняшнего дня, а также год и номер месяца рождения человека (нумерация месяцев с 1: январь - 1 и т.д.). Определите возраст человека (число полных лет)."
      ]
    },
    {
      "cell_type": "code",
      "metadata": {
        "colab": {
          "base_uri": "https://localhost:8080/"
        },
        "id": "D_hlNzZmiM32",
        "outputId": "1a035d7b-6b98-4226-ecf4-fc612127b0a2"
      },
      "source": [
        "# Задание task_04_02_04.\r\n",
        "# Выполнил: Молодцова\r\n",
        "# Группа: АДЭУ-201\r\n",
        "\r\n",
        "year_today = int(input('Введите текущий год: '))\r\n",
        "month_today = int(input('Введите текущий месяц: '))\r\n",
        "\r\n",
        "year = int(input('Введите год рождения: '))\r\n",
        "month = int(input('Введите месяц рождения: '))\r\n",
        "\r\n",
        "age = year_today - year\r\n",
        "age_month = month_today - month\r\n",
        "\r\n",
        "if age_month < 1:\r\n",
        "  age = age - 1 \r\n",
        "  age_month = age_month + 12\r\n",
        "print(\"Число полных лет: \", age)\r\n",
        "\r\n",
        "# --------------\r\n",
        "# Пример вывода:\r\n",
        "#\r\n",
        "# Введите текущий год: 2017\r\n",
        "# Введите текущий месяц: 5\r\n",
        "# Введите год рождения: 2000\r\n",
        "# Введите месяц рождения: 1\r\n",
        "# Число полных лет:  17\r\n"
      ],
      "execution_count": null,
      "outputs": [
        {
          "output_type": "stream",
          "text": [
            "Введите текущий год: 2020\n",
            "Введите текущий месяц: 12\n",
            "Введите год рождения: 2002\n",
            "Введите месяц рождения: 1\n",
            "Число полных лет:  18\n"
          ],
          "name": "stdout"
        }
      ]
    },
    {
      "cell_type": "markdown",
      "metadata": {
        "id": "V2uZ69MhtQTi"
      },
      "source": [
        "№ 4.2.5\r\n",
        "\r\n",
        "Дана точка с целыми ненулевыми координатами (x;y). Определить номер четверти координатной плоскости, которой она принадлежит."
      ]
    },
    {
      "cell_type": "code",
      "metadata": {
        "colab": {
          "base_uri": "https://localhost:8080/"
        },
        "id": "MKXpKL4UtOy1",
        "outputId": "dabeae88-ccc8-4a67-af02-242335fdecf9"
      },
      "source": [
        "# Задание task_04_02_05.\r\n",
        "# Выполнил: Фамилия И.О.\r\n",
        "# Группа: !!!\r\n",
        "# E-mail: !!!\r\n",
        "\r\n",
        "\r\n",
        "x = int(input('Введите координату x: '))\r\n",
        "y = int(input('Введите координату y: '))\r\n",
        "\r\n",
        "if x>0 and y>0:\r\n",
        "    print(\"1-я четверть\")\r\n",
        "elif x<0 and y>0:\r\n",
        "    print(\"2-я четверть\")\r\n",
        "elif x<0 and y<0:\r\n",
        "    print(\"3-я четверть\")\r\n",
        "elif x==0 or y==0:\r\n",
        "    print(\"Координатная линия\")\r\n",
        "else:\r\n",
        "    print(\"4-я четверть\")\r\n",
        "\r\n",
        "# Удалите комментарий и допишите код\r\n",
        "\r\n",
        "# --------------\r\n",
        "# Пример вывода:\r\n",
        "#\r\n",
        "# Введите координату x: 5\r\n",
        "# Введите координату y: 7\r\n",
        "# 1-я четверть\r\n"
      ],
      "execution_count": null,
      "outputs": [
        {
          "output_type": "stream",
          "text": [
            "Введите координату x: 0\n",
            "Введите координату y: 0\n",
            "Координатная линия\n"
          ],
          "name": "stdout"
        }
      ]
    },
    {
      "cell_type": "markdown",
      "metadata": {
        "id": "-aMSx8PQvT8V"
      },
      "source": [
        "№ 4.2.6\r\n",
        "\r\n",
        "Даны вещественные числа a, b, c (a≠0).\r\n",
        "\r\n",
        "Решите уравнение ax2+bx+c=0. При выводе значений оставьте 1 знак после запятой."
      ]
    },
    {
      "cell_type": "code",
      "metadata": {
        "id": "U6nPRxq3vHLN",
        "colab": {
          "base_uri": "https://localhost:8080/"
        },
        "outputId": "7474dfec-9a78-4ec4-e8c2-61230ce5587f"
      },
      "source": [
        "# Задание task_03_02_06.\r\n",
        "#\r\n",
        "# Выполнил: Фамилия И.О.\r\n",
        "# Группа: !!!\r\n",
        "# E-mail: !!!\r\n",
        "import math\r\n",
        "\r\n",
        "a = int(input('Введите a: '))\r\n",
        "b = int(input('Введите b: '))\r\n",
        "c = int(input('Введите c: '))\r\n",
        "print(a != 0)\r\n",
        "\r\n",
        "d=b*b-4*a*c\r\n",
        "if d<0:\r\n",
        "    print(\"Нет решений\")\r\n",
        "elif d==0:\r\n",
        "    x1=(-b+ math.sqrt(d)) / (2*a)\r\n",
        "    print(round(x1, 1))\r\n",
        "else:\r\n",
        "    x1=(-b+ math.sqrt(d)) / (2*a)\r\n",
        "    x2=(-b- math.sqrt(d)) / (2*a)\r\n",
        "    print(round(x1, 1))\r\n",
        "    print(round(x2, 1))\r\n",
        "          \r\n",
        "\r\n",
        "\r\n",
        "# --------------\r\n",
        "# Пример вывода:\r\n",
        "#\r\n",
        "# a = 1\r\n",
        "# b = 2\r\n",
        "# c = 3\r\n",
        "# Решений нет\r\n",
        "#\r\n",
        "# a = 1\r\n",
        "# b = 2\r\n",
        "# c = 1\r\n",
        "# x = -1.0\r\n",
        "#\r\n",
        "# a = 1\r\n",
        "# b = 3\r\n",
        "# c = -4\r\n",
        "# x1 = -4.0, x2 = 1.0\r\n"
      ],
      "execution_count": null,
      "outputs": [
        {
          "output_type": "stream",
          "text": [
            "Введите a: 1\n",
            "Введите b: 3\n",
            "Введите c: -4\n",
            "True\n",
            "x1=1.0, x2=-4.0\n"
          ],
          "name": "stdout"
        }
      ]
    },
    {
      "cell_type": "markdown",
      "metadata": {
        "id": "ymgwWkLJUdyx"
      },
      "source": [
        "№ 4.2.7\r\n",
        "\r\n",
        "Дана непустая последовательность целых чисел, оканчивающаяся нулем. Найти сумму и количество введенных чисел."
      ]
    },
    {
      "cell_type": "code",
      "metadata": {
        "colab": {
          "base_uri": "https://localhost:8080/"
        },
        "id": "xBQW63ebUhUq",
        "outputId": "0de979b8-83e9-4bd6-b9a9-21551340d045"
      },
      "source": [
        "# Задание task_04_02_07.\r\n",
        "#\r\n",
        "# Выполнил: Фамилия И.О.\r\n",
        "# Группа: !!!\r\n",
        "# E-mail: !!!\r\n",
        "\r\n",
        "\r\n",
        "nums_sum = 0  # сумма\r\n",
        "nums_count = 0  # количество\r\n",
        "\r\n",
        "x = 1 # Удалите комментарий и допишите код\r\n",
        "while x != 0:\r\n",
        "    x = int(input('Введите x: '))\r\n",
        "    nums_sum = nums_sum + x\r\n",
        "    nums_count = nums_count + 1\r\n",
        "    # Удалите комментарий и допишите код\r\n",
        "print(nums_sum)\r\n",
        "print(nums_count - 1)\r\n",
        "# Удалите комментарий и допишите код\r\n",
        "\r\n",
        "# --------------\r\n",
        "# Пример вывода:\r\n",
        "#\r\n",
        "# Введите 1-е число: 1\r\n",
        "# Введите 2-е число: 2\r\n",
        "# Введите 3-е число: 3\r\n",
        "# Введите 4-е число: 4\r\n",
        "# Введите 5-е число: 0\r\n",
        "# Сумма = 10\r\n",
        "# Количество = 4\r\n",
        "#\r\n",
        "# Введите 1-е число: 0\r\n",
        "# Сумма = 0\r\n",
        "# Количество = 0\r\n"
      ],
      "execution_count": null,
      "outputs": [
        {
          "output_type": "stream",
          "text": [
            "Введите x: 0\n",
            "0\n",
            "0\n"
          ],
          "name": "stdout"
        }
      ]
    },
    {
      "cell_type": "markdown",
      "metadata": {
        "id": "55axurR1W1OV"
      },
      "source": [
        "№ 4.2.8\r\n",
        "\r\n",
        "Дано число n. Из чисел 0,5,10,15,20,25,... напечатать те, которые не превышают n."
      ]
    },
    {
      "cell_type": "code",
      "metadata": {
        "colab": {
          "base_uri": "https://localhost:8080/"
        },
        "id": "aeqAyGxMWz34",
        "outputId": "b4e2722b-09d6-4898-c0f4-42f91bbccb3e"
      },
      "source": [
        "# Задание task_04_02_08.\r\n",
        "#\r\n",
        "# Выполнил: Фамилия И.О.\r\n",
        "# Группа: !!!\r\n",
        "# E-mail: !!!\r\n",
        "\r\n",
        "\r\n",
        "n = int(input('Введите n: ')) # Удалите комментарий и допишите код\r\n",
        "x = 0\r\n",
        "while x<n:\r\n",
        "    print(x)\r\n",
        "    x=x+5\r\n",
        "    \r\n",
        "   \r\n",
        "# --------------\r\n",
        "# Пример вывода:\r\n",
        "#\r\n",
        "# n = 0\r\n",
        "# 0\r\n",
        "#\r\n",
        "# n = 10\r\n",
        "# 0\r\n",
        "# 5\r\n",
        "# 10\r\n",
        "#\r\n",
        "# n = 12\r\n",
        "# 0\r\n",
        "# 5\r\n",
        "# 10\r\n"
      ],
      "execution_count": null,
      "outputs": [
        {
          "output_type": "stream",
          "text": [
            "Введите n: 19\n",
            "0\n",
            "5\n",
            "10\n",
            "15\n"
          ],
          "name": "stdout"
        }
      ]
    },
    {
      "cell_type": "markdown",
      "metadata": {
        "id": "AB7eNeDzmGx3"
      },
      "source": [
        "№ 4.2.9\r\n",
        "\r\n",
        "Дано вещественное число a. Найдите наименьшее натуральное n, для которого верно\r\n"
      ]
    },
    {
      "cell_type": "code",
      "metadata": {
        "colab": {
          "base_uri": "https://localhost:8080/"
        },
        "id": "d4PT3KppmJM9",
        "outputId": "6b906519-16d2-433f-b525-f23b9c56edcf"
      },
      "source": [
        "# Задание task_04_02_09.\r\n",
        "#\r\n",
        "# Выполнил: Фамилия И.О.\r\n",
        "# Группа: !!!\r\n",
        "# E-mail: !!!\r\n",
        "\r\n",
        "\r\n",
        "a = float(input('Введите a: '))# Удалите комментарий и допишите код\r\n",
        "\r\n",
        "n = 0 # Удалите комментарий и допишите код\r\n",
        "x_sum = 0 # Удалите комментарий и допишите код\r\n",
        "\r\n",
        "while x_sum <= a:\r\n",
        "    n = n +1\r\n",
        "    x_sum = x_sum + 1/n\r\n",
        "    \r\n",
        "print(n)\r\n",
        "\r\n",
        "# Удалите комментарий и допишите код\r\n",
        "\r\n",
        "# --------------\r\n",
        "# Пример вывода:\r\n",
        "#\r\n",
        "# a = 1.5\r\n",
        "# n = 3\r\n",
        "#\r\n",
        "# a = 2\r\n",
        "# n = 4\r\n",
        "\r\n"
      ],
      "execution_count": null,
      "outputs": [
        {
          "output_type": "stream",
          "text": [
            "Введите a: 2\n",
            "4\n"
          ],
          "name": "stdout"
        }
      ]
    },
    {
      "cell_type": "markdown",
      "metadata": {
        "id": "r7ehrgV-o8xw"
      },
      "source": [
        "№ 4.2.10\r\n",
        "\r\n",
        "Дано натуральное число. Определите сумму и количество его цифр."
      ]
    },
    {
      "cell_type": "code",
      "metadata": {
        "colab": {
          "base_uri": "https://localhost:8080/"
        },
        "id": "F-Dv6LhNpByk",
        "outputId": "8fea4c12-e6ac-461e-837a-f556242deb84"
      },
      "source": [
        "# Задание task_04_02_10.\r\n",
        "#\r\n",
        "# Выполнил: Фамилия И.О.\r\n",
        "# Группа: !!!\r\n",
        "# E-mail: !!!\r\n",
        "\r\n",
        "\r\n",
        "n = int(input('Введите n: ')) # Удалите комментарий и допишите код\r\n",
        "\r\n",
        "n_sum = 0 # Удалите комментарий и допишите код\r\n",
        "n_count = 0 # Удалите комментарий и допишите код\r\n",
        "\r\n",
        "while n != 0:\r\n",
        "    n_sum = n_sum + n%10\r\n",
        "    n_count = n_count + 1\r\n",
        "    n = n//10\r\n",
        "\r\n",
        "print(n_sum)\r\n",
        "print(n_count)\r\n",
        "# Удалите комментарий и допишите код\r\n",
        "\r\n",
        "# --------------\r\n",
        "# Пример вывода:\r\n",
        "#\r\n",
        "# n = 12345\r\n",
        "# Сумма = 15\r\n",
        "# Количество = 5\r\n"
      ],
      "execution_count": null,
      "outputs": [
        {
          "output_type": "stream",
          "text": [
            "Введите n: 0\n",
            "0\n",
            "0\n"
          ],
          "name": "stdout"
        }
      ]
    },
    {
      "cell_type": "markdown",
      "metadata": {
        "id": "mnnC8VdLCj5w"
      },
      "source": [
        "№ 4.2.11\r\n",
        "\r\n",
        "Вывести в строку 10 первых натуральных чисел, оканчивающихся на цифру k, кратных числу s и находящихся в интервале, левая граница которого равна start."
      ]
    },
    {
      "cell_type": "code",
      "metadata": {
        "colab": {
          "base_uri": "https://localhost:8080/"
        },
        "id": "0Vm7HFRvCsvR",
        "outputId": "30730c45-0375-4176-8ea1-ac80af8b7366"
      },
      "source": [
        "# Задание task_04_02_11.\r\n",
        "#\r\n",
        "# Выполнил: Фамилия И.О.\r\n",
        "# Группа: !!!\r\n",
        "# E-mail: !!!\r\n",
        "\r\n",
        "\r\n",
        "start = int(input('Введите start: ')) \r\n",
        "k = int(input('Введите k: ')) \r\n",
        "s = int(input('Введите s: ')) \r\n",
        "n_count = 0 \r\n",
        "\r\n",
        "while n_count < 10:\r\n",
        "    if start%10==k and start%s==0:\r\n",
        "          print(start, end=\" \")\r\n",
        "          n_count = n_count + 1\r\n",
        "    start = start + 1 \r\n",
        "\r\n",
        "# Удалите комментарий и допишите код\r\n",
        "\r\n",
        "# --------------\r\n",
        "# Пример вывода:\r\n",
        "#\r\n",
        "# start = 100\r\n",
        "# k = 7\r\n",
        "# s = 9\r\n",
        "# 117 207 297 387 477 567 657 747 837 927\r\n"
      ],
      "execution_count": null,
      "outputs": [
        {
          "output_type": "stream",
          "text": [
            "Введите start: 100\n",
            "Введите k: 7\n",
            "Введите s: 9\n",
            "117 207 297 387 477 567 657 747 837 927 "
          ],
          "name": "stdout"
        }
      ]
    },
    {
      "cell_type": "markdown",
      "metadata": {
        "id": "MPByM1siqlSh"
      },
      "source": [
        "№ 4.2.12\r\n",
        "\r\n",
        "Даны целые числа a и b (a может быть больше b). Напечатайте:\r\n",
        "\r\n",
        "числа от минимального до максимального в строчку (разделяя пробелом);\r\n",
        "\r\n",
        "числа от максимального до минимального «столбиком»."
      ]
    },
    {
      "cell_type": "code",
      "metadata": {
        "colab": {
          "base_uri": "https://localhost:8080/"
        },
        "id": "bOmwyVJuqf0F",
        "outputId": "2eb2b3f4-b621-4f13-bb7b-d0cfe99ab28d"
      },
      "source": [
        "# Задание task_04_02_12.\r\n",
        "#\r\n",
        "# Выполнил: Фамилия И.О.\r\n",
        "# Группа: !!!\r\n",
        "# E-mail: !!!\r\n",
        "\r\n",
        "\r\n",
        "a = int(input('Введите a: '))# Удалите комментарий и допишите код\r\n",
        "b = int(input('Введите b: '))# Удалите комментарий и допишите код\r\n",
        "\r\n",
        "if a>b:\r\n",
        "  for i in range(b, a+1):\r\n",
        "    print(i, end=\" \")\r\n",
        "  print(\"\")\r\n",
        "  for i in range(a, b-1, -1):\r\n",
        "    print(i)\r\n",
        "elif a<b:\r\n",
        "  for i in range(a, b+1):\r\n",
        "    print(i, end=\" \")\r\n",
        "  print(\"\")\r\n",
        "  for i in range(b, a-1, -1):\r\n",
        "    print(i)\r\n",
        "else:\r\n",
        "  print(a)\r\n",
        "\r\n",
        "# Удалите комментарий и допишите код\r\n",
        "\r\n",
        "# --------------\r\n",
        "# Пример вывода:\r\n",
        "#\r\n",
        "# a = 1\r\n",
        "# b = 5\r\n",
        "# 1 2 3 4 5\r\n",
        "# 5\r\n",
        "# 4\r\n",
        "# 3\r\n",
        "# 2\r\n",
        "# 1\r\n"
      ],
      "execution_count": null,
      "outputs": [
        {
          "output_type": "stream",
          "text": [
            "Введите a: 2\n",
            "Введите b: 2\n",
            "2\n"
          ],
          "name": "stdout"
        }
      ]
    },
    {
      "cell_type": "markdown",
      "metadata": {
        "id": "Oebt44kKvykF"
      },
      "source": [
        "№ 4.2.13\r\n",
        "\r\n",
        "Для введенных с клавиатуры положительных целых чисел a и b (a≤b) определите:\r\n",
        "\r\n",
        "сумму всех целых чисел от a до b;\r\n",
        "\r\n",
        "произведение всех целых чисел от a до b;\r\n",
        "\r\n",
        "среднее арифметическое всех целых чисел от a до b;\r\n",
        "\r\n",
        "среднее геометрическое нечетных чисел от a до b.\r\n",
        "\r\n",
        "Отрезок поиска включает сами числа a и b. При выводе вещественных результатов оставьте два знака после запятой."
      ]
    },
    {
      "cell_type": "code",
      "metadata": {
        "colab": {
          "base_uri": "https://localhost:8080/"
        },
        "id": "LEdvfKxPvznu",
        "outputId": "8aec07bd-e163-4af7-beb1-4eef3cca2ee7"
      },
      "source": [
        "# Выполнил: Фамилия И.О.\r\n",
        "# Группа: !!!\r\n",
        "# E-mail: !!!\r\n",
        "\r\n",
        "\r\n",
        "a = int(input('Введите a: '))\r\n",
        "b = int(input('Введите b: '))\r\n",
        "\r\n",
        "n=0\r\n",
        "n_sum = 0\r\n",
        "n_mult = 1\r\n",
        "n_mult_odd = 1\r\n",
        "n_avg = 0 \r\n",
        "n_avg_geom = 1\r\n",
        "n_odd=0\r\n",
        "\r\n",
        "for i in range(a, b+1):\r\n",
        "    n_sum = n_sum + i \r\n",
        "    n_mult = n_mult * i\r\n",
        "    if i%2==1:\r\n",
        "        n_mult_odd = n_mult_odd * i \r\n",
        "        n_odd = n_odd + 1\r\n",
        "    \r\n",
        "    n = n + 1\r\n",
        "\r\n",
        "n_avg = n_sum / n\r\n",
        "n_avg_geom = n_mult_odd **(1/n_odd)\r\n",
        "\r\n",
        "\r\n",
        "print(\"Сумма =\", n_sum)\r\n",
        "print(\"Произведение =\", n_mult)\r\n",
        "print(\"Среднее арифметическое = \", round(n_avg, 2))\r\n",
        "print(\"Среднее геометрическое нечетных чисел = \", round(n_avg_geom, 2))\r\n",
        "\r\n",
        "# --------------\r\n",
        "# Пример вывода:\r\n",
        "#\r\n",
        "# a = 1\r\n",
        "# b = 5\r\n",
        "# Сумма = 15\r\n",
        "# Произведение = 120\r\n",
        "# Среднее арифметическое = 3.00\r\n",
        "# Среднее геометрическое нечетных чисел = 2.47\r\n"
      ],
      "execution_count": null,
      "outputs": [
        {
          "output_type": "stream",
          "text": [
            "Введите a: 1\n",
            "Введите b: 5\n",
            "Сумма = 15\n",
            "Произведение = 120\n",
            "Среднее арифметическое =  3.0\n",
            "Среднее геометрическое нечетных чисел =  2.47\n"
          ],
          "name": "stdout"
        }
      ]
    },
    {
      "cell_type": "markdown",
      "metadata": {
        "id": "oagPcDEO0_1O"
      },
      "source": [
        "№ 4.2.14\r\n",
        "\r\n",
        "Начав тренировки, лыжник в первый день пробежал s км. (s>0, вещественное число). Каждый следующий день он увеличивал пробег на p % (0<p≤100, вещественное число) от пробега предыдущего дня. Определите:\r\n",
        "\r\n",
        "пробег лыжника за второй, третий, …, десятый день тренировок;\r\n",
        "\r\n",
        "какой суммарный путь он пробежал за первые 10 дней тренировок.\r\n",
        "\r\n",
        "При выводе вещественных результатов оставьте один знак после запятой."
      ]
    },
    {
      "cell_type": "code",
      "metadata": {
        "colab": {
          "base_uri": "https://localhost:8080/"
        },
        "id": "PeP9MiwQ1Fyf",
        "outputId": "ad9abf0c-d1fa-4993-d476-6a174a9ce38c"
      },
      "source": [
        "# Задание task_04_02_14.\r\n",
        "#\r\n",
        "# Выполнил: Фамилия И.О.\r\n",
        "# Группа: !!!\r\n",
        "# E-mail: !!!\r\n",
        "\r\n",
        "\r\n",
        "s = float(input('Введите s: ')) # Удалите комментарий и допишите код\r\n",
        "p = float(input('Введите p: ')) # Удалите комментарий и допишите код\r\n",
        "\r\n",
        "total = s\r\n",
        "for i in range(1, 10):\r\n",
        "    s = s + s*(p*0.01)\r\n",
        "    total = total + s\r\n",
        "    print(round(s, 1))\r\n",
        "# Удалите комментарий и допишите код\r\n",
        "\r\n",
        "print(\"Суммарный пробег: {:.1f} км.\".format(total))\r\n",
        "\r\n",
        "# --------------\r\n",
        "# Пример вывода:\r\n",
        "#\r\n",
        "# Пробег за 1-й день (км.) = 5\r\n",
        "# На сколько увеличивает пробег (%) = 10\r\n",
        "# Пробег за 2-й день: 5.5 км.\r\n",
        "# Пробег за 3-й день: 6.1 км.\r\n",
        "# Пробег за 4-й день: 6.7 км.\r\n",
        "# Пробег за 5-й день: 7.3 км.\r\n",
        "# Пробег за 6-й день: 8.1 км.\r\n",
        "# Пробег за 7-й день: 8.9 км.\r\n",
        "# Пробег за 8-й день: 9.7 км.\r\n",
        "# Пробег за 9-й день: 10.7 км.\r\n",
        "# Пробег за 10-й день: 11.8 км.\r\n",
        "# Суммарный пробег: 79.7 км.\r\n"
      ],
      "execution_count": null,
      "outputs": [
        {
          "output_type": "stream",
          "text": [
            "Введите s: 5\n",
            "Введите p: 10\n",
            "5.5\n",
            "6.0\n",
            "6.7\n",
            "7.3\n",
            "8.1\n",
            "8.9\n",
            "9.7\n",
            "10.7\n",
            "11.8\n",
            "Суммарный пробег: 79.7 км.\n"
          ],
          "name": "stdout"
        }
      ]
    },
    {
      "cell_type": "markdown",
      "metadata": {
        "id": "lWPlQxo225ZH"
      },
      "source": [
        "№ 4.2.15\r\n",
        "\r\n",
        "Известна масса каждого предмета в кг., загружаемого в грузовик. Определить, возможна ли перевозка груза, если грузоподъемность грузовика равна p кг."
      ]
    },
    {
      "cell_type": "code",
      "metadata": {
        "colab": {
          "base_uri": "https://localhost:8080/"
        },
        "id": "CywjL02N29JF",
        "outputId": "46bfa59f-bded-472c-a659-9050dd11db36"
      },
      "source": [
        "# Задание task_04_02_15.\r\n",
        "#\r\n",
        "# Выполнил: Фамилия И.О.\r\n",
        "# Группа: !!!\r\n",
        "# E-mail: !!!\r\n",
        "\r\n",
        "\r\n",
        "p = int(input('Введите p: ')) # Удалите комментарий и допишите код\r\n",
        "n = int(input('Введите n: ')) # Удалите комментарий и допишите код\r\n",
        "\r\n",
        "total = 0\r\n",
        "for i in range(n):\r\n",
        "    m = int(input('m: '))\r\n",
        "    total = total + m\r\n",
        "\r\n",
        "if total > p:\r\n",
        "    print(\"Не влезает\")\r\n",
        "else:\r\n",
        "    print(\"Влезает\")\r\n",
        "# Удалите комментарий и допишите код\r\n",
        "\r\n",
        "# --------------\r\n",
        "# Пример вывода:\r\n",
        "#\r\n",
        "# Грузоподъемность грузовика (кг.) = 10\r\n",
        "# Количество предметов = 2\r\n",
        "# Масса 1-го предмета (кг.) = 3\r\n",
        "# Масса 2-го предмета (кг.) = 3\r\n",
        "# Да\r\n"
      ],
      "execution_count": null,
      "outputs": [
        {
          "output_type": "stream",
          "text": [
            "Введите p: 10\n",
            "Введите n: 2\n",
            "m: 5\n",
            "m: 6\n",
            "Не влезает\n"
          ],
          "name": "stdout"
        }
      ]
    },
    {
      "cell_type": "markdown",
      "metadata": {
        "id": "RFVZyjp85E0m"
      },
      "source": [
        "№04.02.16.\r\n",
        "В области несколько районов. Заданы площади, засеваемые пшеницей (га.), и средняя урожайность (ц/га) в каждом районе.\r\n",
        "\r\n",
        "Определите количество пшеницы, собранное по области. При выводе вещественных результатов оставьте один знак после запятой."
      ]
    },
    {
      "cell_type": "code",
      "metadata": {
        "colab": {
          "base_uri": "https://localhost:8080/"
        },
        "id": "R27IzYCz5QnV",
        "outputId": "17257a82-4e7c-4c78-99fa-de875bd10764"
      },
      "source": [
        "# Задание task_04_02_16.\r\n",
        "#\r\n",
        "# Выполнил: Фамилия И.О.\r\n",
        "# Группа: !!!\r\n",
        "# E-mail: !!!\r\n",
        "\r\n",
        "\r\n",
        "n = int(input('Введите n: ')) # Удалите комментарий и допишите код\r\n",
        "\r\n",
        "total = 0\r\n",
        "\r\n",
        "for i in range(n):\r\n",
        "    s = int(input('Введите s: '))\r\n",
        "    o = int(input('Введите o: '))\r\n",
        "    total = total + s*o\r\n",
        "\r\n",
        "print(round(total, 1))\r\n",
        "# Удалите комментарий и допишите код\r\n",
        "\r\n",
        "# --------------\r\n",
        "# Пример вывода:\r\n",
        "#\r\n",
        "# Количество районов = 3\r\n",
        "# Площадь 1-го района (га) = 4\r\n",
        "# Урожайность в 1-м районе (ц/га.) = 2\r\n",
        "# Площадь 2-го района (га) = 7\r\n",
        "# Урожайность в 2-м районе (ц/га.) = 3\r\n",
        "# Площадь 3-го района (га) = 9\r\n",
        "# Урожайность в 3-м районе (ц/га.) = 4\r\n",
        "# Собрано пшеницы: 65.0 ц.\r\n"
      ],
      "execution_count": null,
      "outputs": [
        {
          "output_type": "stream",
          "text": [
            "Введите n: 3\n",
            "Введите s: 4\n",
            "Введите o: 2\n",
            "Введите s: 7\n",
            "Введите o: 3\n",
            "Введите s: 9\n",
            "Введите o: 4\n",
            "65\n"
          ],
          "name": "stdout"
        }
      ]
    },
    {
      "cell_type": "markdown",
      "metadata": {
        "id": "PfdL0o3i6XqC"
      },
      "source": [
        "№ 4.2.17\r\n",
        "\r\n",
        "Решите задачу № 4.2.7, организовав бесконечный цикл, который бы прерывался при выполнении условия, используя оператор break."
      ]
    },
    {
      "cell_type": "code",
      "metadata": {
        "colab": {
          "base_uri": "https://localhost:8080/"
        },
        "id": "Wa5q3-yH6ZbI",
        "outputId": "eed5bd61-616f-49dc-a0bb-5ea40e44b6de"
      },
      "source": [
        "# Задание task_04_02_17.\r\n",
        "#\r\n",
        "# Выполнил: Фамилия И.О.\r\n",
        "# Группа: !!!\r\n",
        "# E-mail: !!!\r\n",
        "\r\n",
        "\r\n",
        "nums_sum = 0  # сумма\r\n",
        "nums_count = 0  # количество\r\n",
        "\r\n",
        "while True:\r\n",
        "    n = int(input('Введите n: '))\r\n",
        "    if n==0:\r\n",
        "      break\r\n",
        "    else:\r\n",
        "      nums_sum = nums_sum + n \r\n",
        "      nums_count = nums_count + 1\r\n",
        "\r\n",
        "print(nums_sum)  \r\n",
        "print(nums_count)\r\n",
        "# Удалите комментарий и допишите код\r\n",
        "\r\n",
        "# --------------\r\n",
        "# Пример вывода:\r\n",
        "#\r\n",
        "# Введите 1-е число: 1\r\n",
        "# Введите 2-е число: 2\r\n",
        "# Введите 3-е число: 3\r\n",
        "# Введите 4-е число: 4\r\n",
        "# Введите 5-е число: 0\r\n",
        "# Сумма = 10\r\n",
        "# Количество = 4\r\n",
        "#\r\n",
        "# Введите 1-е число: 0\r\n",
        "# Сумма = 0\r\n",
        "# Количество = 0\r\n"
      ],
      "execution_count": null,
      "outputs": [
        {
          "output_type": "stream",
          "text": [
            "Введите n: 1\n",
            "Введите n: 2\n",
            "Введите n: 3\n",
            "Введите n: 4\n",
            "Введите n: 0\n",
            "10\n",
            "4\n"
          ],
          "name": "stdout"
        }
      ]
    },
    {
      "cell_type": "code",
      "metadata": {
        "id": "-UP5UZpKI7Pc"
      },
      "source": [
        ""
      ],
      "execution_count": null,
      "outputs": []
    },
    {
      "cell_type": "markdown",
      "metadata": {
        "id": "wuwaL5o47-45"
      },
      "source": [
        "№ 4.2.19\r\n",
        "\r\n",
        "Выведите на экран (в строку) все целые числа от a до b, кратные некоторому числу c."
      ]
    },
    {
      "cell_type": "code",
      "metadata": {
        "colab": {
          "base_uri": "https://localhost:8080/"
        },
        "id": "bOqnvgud8Ek9",
        "outputId": "9eeb749e-bd4f-4994-d9f3-dea60b07db1c"
      },
      "source": [
        "# Задание task_04_02_19.\r\n",
        "#\r\n",
        "# Выполнил: Фамилия И.О.\r\n",
        "# Группа: !!!\r\n",
        "# E-mail: !!!\r\n",
        "\r\n",
        "\r\n",
        "a = int(input('Введите a: ')) # Удалите комментарий и допишите код\r\n",
        "b = int(input('Введите b: ')) # Удалите комментарий и допишите код\r\n",
        "c = int(input('Введите c: ')) # Удалите комментарий и допишите код\r\n",
        "\r\n",
        "if a>b:\r\n",
        "  for i in range(b, a+1):\r\n",
        "    if i%c==0:\r\n",
        "      print(i, end=\" \")\r\n",
        "elif a<b:\r\n",
        "  for i in range(a, b+1):\r\n",
        "    if i%c==0:\r\n",
        "      print(i, end=\" \")\r\n",
        "\r\n",
        "# --------------\r\n",
        "# Пример вывода:\r\n",
        "#\r\n",
        "# a = 1\r\n",
        "# b = 10\r\n",
        "# c = 2\r\n",
        "# 2 4 6 8 10\r\n"
      ],
      "execution_count": null,
      "outputs": [
        {
          "output_type": "stream",
          "text": [
            "Введите a: 1\n",
            "Введите b: 10\n",
            "Введите c: 2\n",
            "2 4 6 8 10 "
          ],
          "name": "stdout"
        }
      ]
    },
    {
      "cell_type": "markdown",
      "metadata": {
        "id": "IDS2doTp-Mas"
      },
      "source": [
        "№ 4.2.20\r\n",
        "\r\n",
        "Выведите на экран (в строку) все трехзначные натуральные числа, сумма цифр которых равна целому числу n (0<n≤27)."
      ]
    },
    {
      "cell_type": "code",
      "metadata": {
        "colab": {
          "base_uri": "https://localhost:8080/"
        },
        "id": "gH-gmpYU-Pra",
        "outputId": "118c6560-f158-46fe-b853-3627ef5de38a"
      },
      "source": [
        "# Задание task_04_02_20.\r\n",
        "#\r\n",
        "# Выполнил: Фамилия И.О.\r\n",
        "# Группа: !!!\r\n",
        "# E-mail: !!!\r\n",
        "\r\n",
        "\r\n",
        "n = int(input('Введите n: ')) # Удалите комментарий и допишите код\r\n",
        "\r\n",
        "for i in range(100, 1000):\r\n",
        "    m = i\r\n",
        "    n_sum = 0\r\n",
        "    for j in range(3):\r\n",
        "        n_sum = n_sum + m%10\r\n",
        "        m = m//10\r\n",
        "    if n_sum==n:\r\n",
        "          print(i, end=\" \")\r\n",
        "\r\n",
        "\r\n",
        "# --------------\r\n",
        "# Пример вывода:\r\n",
        "#\r\n",
        "# n = 3\r\n",
        "# 102 111 120 201 210 300\r\n"
      ],
      "execution_count": null,
      "outputs": [
        {
          "output_type": "stream",
          "text": [
            "Введите n: 3\n",
            "102 111 120 201 210 300 "
          ],
          "name": "stdout"
        }
      ]
    },
    {
      "cell_type": "markdown",
      "metadata": {
        "id": "-Y3LsihUJJKn"
      },
      "source": [
        "№ 4.2.21\r\n",
        "\r\n",
        "Известно количество учеников в классе и их рост (см.); рост мальчиков условно задан отрицательными числами. Определите средний рост мальчиков и средний рост девочек.\r\n",
        "\r\n",
        "При выводе вещественных результатов оставьте один знак после запятой."
      ]
    },
    {
      "cell_type": "code",
      "metadata": {
        "colab": {
          "base_uri": "https://localhost:8080/"
        },
        "id": "o7CuJ0KuJNna",
        "outputId": "c1830637-de1a-4491-e4a9-0edcef934d9a"
      },
      "source": [
        "# Задание task_04_02_21.\r\n",
        "#\r\n",
        "# Выполнил: Фамилия И.О.\r\n",
        "# Группа: !!!\r\n",
        "# E-mail: !!!\r\n",
        "\r\n",
        "\r\n",
        "n = int(input('Введите n: '))\r\n",
        "\r\n",
        "r_sr_m = 0.0\r\n",
        "r_sr_d = 0.0\r\n",
        "d_sum = 0\r\n",
        "d = 0 \r\n",
        "m_sum = 0\r\n",
        "m = 0\r\n",
        "\r\n",
        "for i in range(n):\r\n",
        "    l = int(input('Введите l: '))\r\n",
        "    if l>0:\r\n",
        "        d_sum = d_sum + l \r\n",
        "        d = d + 1 \r\n",
        "    elif l<0:\r\n",
        "        m_sum = m_sum + l\r\n",
        "        m = m+1\r\n",
        "    else:\r\n",
        "        print(\"Рост не может быть равен нулю\")\r\n",
        "\r\n",
        "r_sr_m = -m_sum / m\r\n",
        "r_sr_d = d_sum / d\r\n",
        "\r\n",
        "print(\"Средний рост мальчиков: {:.1f}\".format(r_sr_m))\r\n",
        "print(\"Средний рост девочек: {:.1f}\".format(r_sr_d))\r\n",
        "\r\n",
        "# --------------\r\n",
        "# Пример вывода:\r\n",
        "#\r\n",
        "# n = 5\r\n",
        "# Рост 1-го ученика = 150\r\n",
        "# Рост 2-го ученика = -150\r\n",
        "# Рост 3-го ученика = 160\r\n",
        "# Рост 4-го ученика = 170\r\n",
        "# Рост 5-го ученика = 180\r\n",
        "# Средний рост мальчиков: 150.0\r\n",
        "# Средний рост девочек: 165.0\r\n"
      ],
      "execution_count": null,
      "outputs": [
        {
          "output_type": "stream",
          "text": [
            "Введите n: 5\n",
            "Введите l: 150\n",
            "Введите l: -150\n",
            "Введите l: 160\n",
            "Введите l: 170\n",
            "Введите l: 180\n",
            "Средний рост мальчиков: 150.0\n",
            "Средний рост девочек: 165.0\n"
          ],
          "name": "stdout"
        }
      ]
    },
    {
      "cell_type": "code",
      "metadata": {
        "id": "NCeUxKTuWU_C"
      },
      "source": [
        "# Задание task_03_02_06.\r\n",
        "#\r\n",
        "# Выполнил: Фамилия И.О.\r\n",
        "# Группа: !!!\r\n",
        "# E-mail: !!!\r\n",
        "\r\n",
        "\r\n",
        "a = int(input('Введите координату a: '))\r\n",
        "b = int(input('Введите координату b: '))\r\n",
        "c = int(input('Введите координату c: '))\r\n",
        "print(a != 0)\r\n",
        "\r\n",
        "d=sqrt(b)-4*a*c\r\n",
        "\r\n",
        "if d>0:\r\n",
        "    print(\"Два корня\")\r\n",
        "elif d<0:\r\n",
        "    print(\"Нет решений\")\r\n",
        "else:\r\n",
        "    print(\"Один конень\")\r\n",
        "\r\n",
        "# --------------\r\n",
        "# Пример вывода:\r\n",
        "#\r\n",
        "# Введите a = 1\r\n",
        "# Введите b = 2\r\n",
        "# Введите m = -5\r\n",
        "# Введите n = 5\r\n",
        "# Попадает: True\r\n"
      ],
      "execution_count": null,
      "outputs": []
    },
    {
      "cell_type": "markdown",
      "metadata": {
        "id": "_vpheLJuL3fB"
      },
      "source": [
        "№ 4.2.22\r\n",
        "\r\n",
        "Даны n вещественных чисел. Определите максимальное и минимальное из них.\r\n",
        "\r\n",
        "При выводе вещественных результатов оставьте два знака после запятой.\r\n"
      ]
    },
    {
      "cell_type": "code",
      "metadata": {
        "colab": {
          "base_uri": "https://localhost:8080/"
        },
        "id": "uh0klXXML6Lz",
        "outputId": "24f48d82-fc6c-4eae-a661-7fe9171c1fd6"
      },
      "source": [
        "# Задание task_04_02_22.\r\n",
        "#\r\n",
        "# Выполнил: Фамилия И.О.\r\n",
        "# Группа: !!!\r\n",
        "# E-mail: !!!\r\n",
        "\r\n",
        "\r\n",
        "n = int(input('n: '))\r\n",
        "\r\n",
        "a_max = float(input('x: '))\r\n",
        "a_min = a_max\r\n",
        "\r\n",
        "for i in range(n-1):\r\n",
        "    x = float(input('x: '))\r\n",
        "    if x>a_max:\r\n",
        "        a_max = x \r\n",
        "    elif x<a_min:\r\n",
        "        a_min = x \r\n",
        "\r\n",
        "print(\"Максимум: {:.2f}\".format(a_max))\r\n",
        "print(\"Минимум: {:.2f}\".format(a_min))\r\n",
        "\r\n",
        "# --------------\r\n",
        "# Пример вывода:\r\n",
        "#\r\n",
        "# n = 4\r\n",
        "# 1-е число = 6.2\r\n",
        "# 2-е число = 3.8\r\n",
        "# 3-е число = 1.1\r\n",
        "# 4-е число = 9.66\r\n",
        "# Максимум: 9.66\r\n",
        "# Минимум: 1.10\r\n"
      ],
      "execution_count": null,
      "outputs": [
        {
          "output_type": "stream",
          "text": [
            "n: 4\n",
            "x: 6.2\n",
            "x: 3.8\n",
            "x: 1.1\n",
            "x: 9.66\n",
            "Максимум: 9.66\n",
            "Минимум: 1.10\n"
          ],
          "name": "stdout"
        }
      ]
    },
    {
      "cell_type": "markdown",
      "metadata": {
        "id": "nFeuJzdOOmgW"
      },
      "source": [
        "№ 4.2.23\r\n",
        "\r\n",
        "Дано натуральное число n. Определите, является ли оно членом последовательности Фибоначчи ."
      ]
    },
    {
      "cell_type": "code",
      "metadata": {
        "colab": {
          "base_uri": "https://localhost:8080/"
        },
        "id": "CzS73xUHOpwR",
        "outputId": "06f47c42-ebbd-4a51-c3bc-18f4a25a565e"
      },
      "source": [
        "# Задание task_04_02_23.\r\n",
        "#\r\n",
        "# Выполнил: Фамилия И.О.\r\n",
        "# Группа: !!!\r\n",
        "# E-mail: !!!\r\n",
        "\r\n",
        "\r\n",
        "n = int(input('n: '))\r\n",
        "\r\n",
        "x0 = 0 \r\n",
        "x1 = 1 \r\n",
        "x2 = 0 \r\n",
        "\r\n",
        "while x2<=n:\r\n",
        "    x2 = x0+x1\r\n",
        "    if x2==n:\r\n",
        "        break\r\n",
        "    x0=x1\r\n",
        "    x1=x2\r\n",
        "if x2==n:\r\n",
        "    print(\"Является\")\r\n",
        "else:\r\n",
        "    print(\"Не является\")\r\n",
        "\r\n",
        "\r\n",
        "# --------------\r\n",
        "# Пример вывода:\r\n",
        "#\r\n",
        "# n = 7\r\n",
        "# Не является\r\n",
        "#\r\n",
        "# n = 8\r\n",
        "# Является\r\n",
        "\r\n"
      ],
      "execution_count": null,
      "outputs": [
        {
          "output_type": "stream",
          "text": [
            "n: 8\n",
            "Является\n"
          ],
          "name": "stdout"
        }
      ]
    },
    {
      "cell_type": "markdown",
      "metadata": {
        "id": "6vNvVfQ-RPMe"
      },
      "source": [
        "№ 4.2.24\r\n",
        "\r\n",
        "Дано n вещественных чисел. Определите, является ли последовательность упорядоченной по возрастанию. В случае отрицательного ответа выведите порядковый номер числа, нарушающего такую упорядоченность."
      ]
    },
    {
      "cell_type": "code",
      "metadata": {
        "colab": {
          "base_uri": "https://localhost:8080/"
        },
        "id": "tuNd9jINROlb",
        "outputId": "32144ed2-27c8-4d4c-e072-7c166cefef8e"
      },
      "source": [
        "# Задание task_04_02_24.\r\n",
        "#\r\n",
        "# Выполнил: Фамилия И.О.\r\n",
        "# Группа: !!!\r\n",
        "# E-mail: !!!\r\n",
        "\r\n",
        "\r\n",
        "n = int(input('n: '))\r\n",
        "\r\n",
        "# -1 означает, что последовательность упорядочена по возрастанию\r\n",
        "# Если это не так, 'index' меняется в цикле на индекс элемента,\r\n",
        "# нарушающего порядок\r\n",
        "index = -1\r\n",
        "prev = float(input(\"1-е число = \"))\r\n",
        "\r\n",
        "for i in range(n-1):\r\n",
        "    curr = float(input(\"число = \"))\r\n",
        "    if curr < prev:\r\n",
        "      index = i+2\r\n",
        "      break\r\n",
        "    prev = curr\r\n",
        "\r\n",
        "if index == -1:\r\n",
        "    print('Является')\r\n",
        "else:\r\n",
        "    print(index)\r\n",
        "    \r\n",
        "\r\n",
        "# --------------\r\n",
        "# Пример вывода:\r\n",
        "#\r\n",
        "# n = 4\r\n",
        "# 1-е число = 2\r\n",
        "# 2-е число = 4.6\r\n",
        "# 3-е число = 6\r\n",
        "# 4-е число = 8.3\r\n",
        "# Является\r\n",
        "#\r\n",
        "# n = 3\r\n",
        "# 1-е число = 3\r\n",
        "# 2-е число = 3\r\n",
        "# 2\r\n",
        "\r\n"
      ],
      "execution_count": null,
      "outputs": [
        {
          "output_type": "stream",
          "text": [
            "n: 4\n",
            "1-е число = 2\n",
            "число = 4.6\n",
            "число = 6\n",
            "число = 8.3\n",
            "Является\n"
          ],
          "name": "stdout"
        }
      ]
    },
    {
      "cell_type": "markdown",
      "metadata": {
        "id": "H02rtq3yZRFs"
      },
      "source": [
        "№ 4.2.25\r\n",
        "\r\n",
        "Выведите на экран таблицу умножения на n (2<n≤9) в виде:"
      ]
    },
    {
      "cell_type": "code",
      "metadata": {
        "colab": {
          "base_uri": "https://localhost:8080/"
        },
        "id": "f-4tkLlfY--8",
        "outputId": "1569d394-8745-4dc4-e0f6-f03ee0ffdf76"
      },
      "source": [
        "# Задание task_04_02_25.\r\n",
        "#\r\n",
        "# Выполнил: Фамилия И.О.\r\n",
        "# Группа: !!!\r\n",
        "# E-mail: !!!\r\n",
        "\r\n",
        "\r\n",
        "n = int(input('n: '))\r\n",
        "\r\n",
        "for i in range(1, n+1):\r\n",
        "    for j in range(1, n+1):\r\n",
        "        print(i*j, end=\" \")\r\n",
        "    print(\"\")\r\n",
        "\r\n",
        "# --------------\r\n",
        "# Пример вывода:\r\n",
        "#\r\n",
        "# n = 5\r\n",
        "# 1 * 1 =  1  1 * 2 =  2  1 * 3 =  3  1 * 4 =  4  1 * 5 =  5\r\n",
        "# 2 * 1 =  2  2 * 2 =  4  2 * 3 =  6  2 * 4 =  8  2 * 5 = 10\r\n",
        "# 3 * 1 =  3  3 * 2 =  6  3 * 3 =  9  3 * 4 = 12  3 * 5 = 15\r\n",
        "# 4 * 1 =  4  4 * 2 =  8  4 * 3 = 12  4 * 4 = 16  4 * 5 = 20\r\n",
        "# 5 * 1 =  5  5 * 2 = 10  5 * 3 = 15  5 * 4 = 20  5 * 5 = 25"
      ],
      "execution_count": null,
      "outputs": [
        {
          "output_type": "stream",
          "text": [
            "n: 5\n",
            "1 2 3 4 5 \n",
            "2 4 6 8 10 \n",
            "3 6 9 12 15 \n",
            "4 8 12 16 20 \n",
            "5 10 15 20 25 \n"
          ],
          "name": "stdout"
        }
      ]
    },
    {
      "cell_type": "markdown",
      "metadata": {
        "id": "1EPCPy3TaXO2"
      },
      "source": [
        "№ 4.2.26 \r\n",
        "Выведите графическое изображения делимости чисел от 1 до n (значение n вводится с клавиатуры) - в каждой строке напечатайте очередное число и столько символов *, сколько делителей у этого числа.\r\n"
      ]
    },
    {
      "cell_type": "code",
      "metadata": {
        "colab": {
          "base_uri": "https://localhost:8080/"
        },
        "id": "kA5gK7WwaTfG",
        "outputId": "90581189-6a10-49f1-ec60-b78240266387"
      },
      "source": [
        "# Задание task_04_02_26.\r\n",
        "#\r\n",
        "# Выполнил: Фамилия И.О.\r\n",
        "# Группа: !!!\r\n",
        "# E-mail: !!!\r\n",
        "\r\n",
        "\r\n",
        "n = int(input('n: '))\r\n",
        "\r\n",
        "for i in range(1, n+1):\r\n",
        "    m=0\r\n",
        "    for j in range(1, i+1):\r\n",
        "        if i%j==0:\r\n",
        "            m = m + 1\r\n",
        "    print(i, end=\" \")\r\n",
        "    for j in range(m):\r\n",
        "        print('*', end=\"\")\r\n",
        "    print(\"\")\r\n",
        "\r\n",
        "# --------------\r\n",
        "# Пример вывода:\r\n",
        "#\r\n",
        "# n = 10\r\n",
        "# 1 *\r\n",
        "# 2 **\r\n",
        "# 3 **\r\n",
        "# 4 ***\r\n",
        "# 5 **\r\n",
        "# 6 ****\r\n",
        "# 7 **\r\n",
        "# 8 ****\r\n",
        "# 9 ***\r\n",
        "# 10 ****\r\n"
      ],
      "execution_count": null,
      "outputs": [
        {
          "output_type": "stream",
          "text": [
            "n: 10\n",
            "1 *\n",
            "2 **\n",
            "3 **\n",
            "4 ***\n",
            "5 **\n",
            "6 ****\n",
            "7 **\n",
            "8 ****\n",
            "9 ***\n",
            "10 ****\n"
          ],
          "name": "stdout"
        }
      ]
    },
    {
      "cell_type": "markdown",
      "metadata": {
        "id": "EtL6SKZodmfe"
      },
      "source": [
        "№ 4.2.27\r\n",
        "\r\n",
        "Выведите на экран (в строку) n первых простых чисел."
      ]
    },
    {
      "cell_type": "code",
      "metadata": {
        "colab": {
          "base_uri": "https://localhost:8080/"
        },
        "id": "qMv7BceUdn0I",
        "outputId": "51352a72-417c-4274-837a-7ef5eb3a5fae"
      },
      "source": [
        "# Задание task_04_02_27.\r\n",
        "#\r\n",
        "# Выполнил: Фамилия И.О.\r\n",
        "# Группа: !!!\r\n",
        "# E-mail: !!!\r\n",
        "\r\n",
        "x=1\r\n",
        "counter=0\r\n",
        "n = int(input('n: '))\r\n",
        "\r\n",
        "while counter < n:\r\n",
        "      m=0\r\n",
        "      for j in range(1, x+1):\r\n",
        "        if x%j==0:\r\n",
        "            m = m + 1\r\n",
        "        if m>2:\r\n",
        "            break\r\n",
        "      if m==2:\r\n",
        "          counter = counter + 1\r\n",
        "          print(x, end=\" \")\r\n",
        "      x=x+1\r\n",
        "\r\n",
        "\r\n",
        "\r\n",
        "# --------------\r\n",
        "# Пример вывода:\r\n",
        "#\r\n",
        "# n = 10\r\n",
        "# 2 3 5 7 11 13 17 19 23 29\r\n"
      ],
      "execution_count": null,
      "outputs": [
        {
          "output_type": "stream",
          "text": [
            "n: 10\n",
            "2 3 5 7 11 13 17 19 23 29 "
          ],
          "name": "stdout"
        }
      ]
    },
    {
      "cell_type": "markdown",
      "metadata": {
        "id": "aPtFz_Dqg-hp"
      },
      "source": [
        "№ 4.2.29\r\n",
        "\r\n",
        "Дан список из n вещественных чисел, введенных с клавиатуры (среди чисел есть по крайней мере одно положительное и отрицательное число).\r\n",
        "\r\n",
        "Сформируйте из него 2 списка:\r\n",
        "\r\n",
        "положительных чисел, используя списковые включения;\r\n",
        "\r\n",
        "отрицательных чисел, не используя списковые включения.\r\n",
        "\r\n",
        "Выведите на экран:\r\n",
        "\r\n",
        "исходный список;\r\n",
        "\r\n",
        "получившиеся списки;\r\n",
        "\r\n",
        "среднее арифметическое первого списка и среднее геометрическое второго списка.\r\n",
        "\r\n",
        "При выводе вещественных результатов оставьте два знака после запятой."
      ]
    },
    {
      "cell_type": "code",
      "metadata": {
        "colab": {
          "base_uri": "https://localhost:8080/"
        },
        "id": "db5NYgIEhA6_",
        "outputId": "c69044d6-3f84-4f50-b859-b22d1c08fe09"
      },
      "source": [
        "# Задание task_04_02_29.\r\n",
        "#\r\n",
        "# Выполнил: Фамилия И.О.\r\n",
        "# Группа: !!!\r\n",
        "# E-mail: !!!\r\n",
        "\r\n",
        "\r\n",
        "n = int(input(\"n = \"))\r\n",
        "\r\n",
        "nums = []\r\n",
        "for i in range(n):\r\n",
        "    nums.append(float(input(\"m = \")))\r\n",
        "\r\n",
        "\r\n",
        "d=0\r\n",
        "nums_neg = []\r\n",
        "nums_pos = [i for i in nums if i>0]\r\n",
        "for i in nums:\r\n",
        "    if i<0:\r\n",
        "        nums_neg.append(i)\r\n",
        "        d = d + 1 \r\n",
        "\r\n",
        "print(nums)\r\n",
        "print(nums_neg)\r\n",
        "print(nums_pos)\r\n",
        "с=0\r\n",
        "poz_s=0\r\n",
        "for i in nums_pos:\r\n",
        "    poz_s = poz_s + i \r\n",
        "    с = с + 1\r\n",
        "\r\n",
        "neg=1 \r\n",
        "for i in nums_neg:\r\n",
        "    neg = neg * i \r\n",
        "\r\n",
        "\r\n",
        "sr_ar = (poz_s)/(c)\r\n",
        "sr_geom = neg**(1/d)\r\n",
        "\r\n",
        "print(sr_ar)\r\n",
        "print(round(sr_geom, 2))\r\n",
        "\r\n",
        "\r\n",
        "# --------------\r\n",
        "# Пример вывода:\r\n",
        "#\r\n",
        "# n = 4\r\n",
        "# Введите 1-й элемент списка: 1\r\n",
        "# Введите 2-й элемент списка: 6\r\n",
        "# Введите 3-й элемент списка: -10\r\n",
        "# Введите 4-й элемент списка: -3\r\n",
        "# Исходный список: [1.0, 6.0, -10.0, -3.0]\r\n",
        "# Положительные числа: [1.0, 6.0]\r\n",
        "# Отрицательные числа: [-10.0, -3.0]\r\n",
        "# Ср. арифм.: 3.50\r\n",
        "# Ср. геом.: 5.48\r\n"
      ],
      "execution_count": null,
      "outputs": [
        {
          "output_type": "stream",
          "text": [
            "n = 4\n",
            "m = 6\n",
            "m = 1\n",
            "m = -10\n",
            "m = -3\n",
            "[6.0, 1.0, -10.0, -3.0]\n",
            "[-10.0, -3.0]\n",
            "[6.0, 1.0]\n",
            "3.5\n",
            "5.48\n"
          ],
          "name": "stdout"
        }
      ]
    },
    {
      "cell_type": "code",
      "metadata": {
        "id": "D3A9dgZsV0LH"
      },
      "source": [
        "# Задание task_03_02_06.\r\n",
        "#\r\n",
        "# Выполнил: Фамилия И.О.\r\n",
        "# Группа: !!!\r\n",
        "# E-mail: !!!\r\n",
        "\r\n",
        "\r\n",
        "a = int(input('Введите координату a: '))\r\n",
        "b = int(input('Введите координату b: '))\r\n",
        "c = int(input('Введите координату c: '))\r\n",
        "print(a != 0)\r\n",
        "\r\n",
        "d=sqrt(b)-4*a*c\r\n",
        "\r\n",
        "if d>0:\r\n",
        "    print(\"Два корня\")\r\n",
        "elif d<0:\r\n",
        "    print(\"Нет решений\")\r\n",
        "else:\r\n",
        "    print(\"Один конень\")\r\n",
        "\r\n",
        "# --------------\r\n",
        "# Пример вывода:\r\n",
        "#\r\n",
        "# Введите a = 1\r\n",
        "# Введите b = 2\r\n",
        "# Введите m = -5\r\n",
        "# Введите n = 5\r\n",
        "# Попадает: True\r\n"
      ],
      "execution_count": null,
      "outputs": []
    },
    {
      "cell_type": "markdown",
      "metadata": {
        "id": "KclBaktuqO1f"
      },
      "source": [
        "№ 4.2.20\r\n",
        "\r\n",
        "Выведите на экран (в строку) все трехзначные натуральные числа, сумма цифр которых равна целому числу n (0<n≤27)."
      ]
    },
    {
      "cell_type": "code",
      "metadata": {
        "colab": {
          "base_uri": "https://localhost:8080/"
        },
        "id": "zaGadDTRqX36",
        "outputId": "e970aa57-af32-4999-969b-5a2b37918257"
      },
      "source": [
        "# Задание task_04_02_20.\r\n",
        "# Выполнил: Фамилия И.О.\r\n",
        "# Группа: !!!\r\n",
        "# E-mail: !!!\r\n",
        "\r\n",
        "\r\n",
        "n = int(input('n= '))\r\n",
        "\r\n",
        "for i in range(100, 1000):\r\n",
        "    if (i//100 + (i % 100)//10 + i % 10 == n):\r\n",
        "        print(i, end = ' ')\r\n",
        "\r\n",
        "# --------------\r\n",
        "# Пример вывода:\r\n",
        "#\r\n",
        "# n = 3\r\n",
        "# 102 111 120 201 210 300\r\n"
      ],
      "execution_count": null,
      "outputs": [
        {
          "output_type": "stream",
          "text": [
            "n= 3\n",
            "102 111 120 201 210 300 "
          ],
          "name": "stdout"
        }
      ]
    }
  ]
}