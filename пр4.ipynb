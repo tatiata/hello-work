{
  "nbformat": 4,
  "nbformat_minor": 0,
  "metadata": {
    "colab": {
      "name": "пр4",
      "provenance": [],
      "authorship_tag": "ABX9TyOiOOEsnNH09z/Jma0W71qO",
      "include_colab_link": true
    },
    "kernelspec": {
      "name": "python3",
      "display_name": "Python 3"
    }
  },
  "cells": [
    {
      "cell_type": "markdown",
      "metadata": {
        "id": "view-in-github",
        "colab_type": "text"
      },
      "source": [
        "<a href=\"https://colab.research.google.com/github/tatiata/hello-work/blob/main/%D0%BF%D1%804.ipynb\" target=\"_parent\"><img src=\"https://colab.research.google.com/assets/colab-badge.svg\" alt=\"Open In Colab\"/></a>"
      ]
    },
    {
      "cell_type": "markdown",
      "metadata": {
        "id": "7xkjCJmGAc-L"
      },
      "source": [
        "![Снимок экрана 2020-12-11 115308.png](data:image/png;base64,iVBORw0KGgoAAAANSUhEUgAAAwUAAAKtCAYAAAB2XcJOAAAAAXNSR0IArs4c6QAAAARnQU1BAACxjwv8YQUAAAAJcEhZcwAAEnQAABJ0Ad5mH3gAAD6XSURBVHhe7d0NrB3VYS/67acr9d6bEr6ifpA04mGQgrAeVTBUL3xIoGegNOolH435UFGuiABTKRLhq4WgJCLQmEAioYBNBGrUNAUCKk0EBBsJpGvgRXwJXkFEAtMIcnnNe2AguVFb6T75+b88y4yHvY/POT4Hzj7r95PGa/bsmdmz52zvvf4za9as2L7DCAAAaNb/0pUAAECjhAIAAGicUAAAAI0TCgAAoHFCAQAANE4oAACAxgkFAADQOKEAAAAaJxQAAEDjhAIAAGicUAAAAI0TCgAAoHFCAQAANE4oAACAxgkFAADQOKEAAAAaJxQAAEDjhAIAAGicUAAAAI0TCgAAoHFCAQAANE4oAACAxgkFAADQOKEAAAAaJxQAAEDjhAIAAGicUAAAAI0TCgAAoHFCAQAANE4oAACAxgkFAADQOKEAAAAaJxQAAEDjhAIAAGicUAAAAI0TCgAAoHFCASygFStWdGMAANNDKAAAgMYJBQAA0DihAAAAGicUAABA44QCAABonFAAAACNEwoAAKBxQgEAADRuakPBGWecUW4UNZvhgAMO6JaCvffGG2+MDj300F2fr2effbZ7BgBgOq3YvkM3PlVOPfXU0aZNm0YrV64sFbRxUnl78skny/iUvk2WoAsvvHC0YcOG7tFotGXLltFxxx1XxhMSfNYAgGkz9aFg/fr1o8suu6yburtHHnlkdPzxx5dxFTUWQv1MnXLKKeVxPoNCAQAw7VxTALOUM0+f//zny/jNN99cSgCA5aDZUJAjujnbEPfff//o6KOP3tVGPNcrTGonniPFaT6S6xTq/FlP1jGUefuv03fllVeW56677rryuK5rpiHbFVkmj2+55ZbyeKg+X9cd9RqMccvU7azrH7rjjjt22z9prpV98PLLL3dz7C6V5zzfb3ef5fPaea6qzw1lX2b6cL9l2axj3Lb019uXbc96+n+vutyk/TfJbbfdNtq6dWs5O3XIIYd0UwEApl/zZwpSofyTP/mT0ZtvvlmahOy///6jO++8c/SHf/iHpbLcl4p8mo6kPXmuZcj8KdOEJOsYFwzGSQW2tkmvzVBS1mH16tVlWralP/3jH/94mV69/fbb3dg7ss2XX3559+gdb731VinHLVPVefqyf84888xybUbdjm3btpXtz3YOw1MeH3bYYeX5zJf5M1+Wv+CCC0YvvPBCN+dkN954Yyk/9alPlTISQLLerCMV87otGc9rjQteddvrtSd1mYxnuXvuuaebc8/yvrJfs+yk5moAAFMr1xRMox2VuzTc3r5+/fpuyrtt2bKlzDPubdbpGTZu3NhN3b799ddf376jElum76gAdlN3Wrt27fZ169Zt31Gh7KbslGnj5q+vn23tu/3228dOryYtV+U95/nhe8+27wgS5bnh8zPtr0mvV18n07Puvvqeh8vUfZfn+8tkn11xxRXbn3nmmW7KO3+DvsyXaXkf/eWzXPZv9l1fptf33H+uvqc813/N6L+v2ar7L+utxk3LYwCAadP8mYIdFcnR+eef3z0ajQ488MBypiByNLl/JDxNUdKWfNh05JJLLill5p+NG264oZS1ffpCOfvss8sZjxzNXgjf+MY3SvmDH/yg7Je+2qY+R+Gr7KucEcgZjquvvnq3ZbLPrrnmmtGRRx7ZTRkvTXQiTZn6y2e5l1566V1NnDK9TnvllVdKGc8//3wpjznmmD2+5p6kmVHe545Qs+uCYgCA5aT5UDCuHX0qsLViPZvmLnNpX54KZirOaVIzqQ3/fOT6gVRc165dOzrvvPO6qe+Yaxv4VPATMCJhI81zhkNVm1nVgJCK+DBEzEZe89prry2hogat2Tj44IO7sXesWbOmlNmmhLlJ1xzsSZot/dVf/VXZpi996UvdVACA5UXvQxPUex/0jz5Hvdg17dXHVZDHefzxx8s8WWfaxJ9yyimjW2+9tXt279XrCFJxvemmm7qpu6tHy7/73e/uVkHO+GOPPdY9esevf/3rbmxnxXrcEHnNgw46qIxXJ510Ujc2O9k3uXg413EkjP3d3/3dxBCT95oA1N/3eU9DWT5ngbJ9ua7gQx/60K6LjMddczFJzg4kHGWb5hN0AACmgVAwBzniXC92zcWtwwryJKlUZp7ZNi+ai1TqazOkH//4xxMrrjlyngpytiHvoVaoU1neUyV5+/btE4dcTDzXsxBD2Tf1JnOT5H1me3Ohd7a3v+8n7deciUkzp7zvSBjLMNvmVXnN2pQsFz/XfVaHhL246KKLyuO59mYEALBUCAUTpP16rFq1qpRpRpIjzqngr1+/fvTMM8/sVjmeSSqimef1118vy6Yie+KJJ+52xH6+/uIv/qJUirPemdq7p+L+8MMPl+ZFNaRkyOMcDV9IDz30UDc2O3Uf5sh+QkZ6chr2/HTVVVeV7U2zq/vuu6/sy7pc3vs4WUf+ZpG/1wMPPFCGcc2rxun31FT3V3+ozasSaPK4f/0JAMA0aT4U5Oj/UCqT9ejzxz72sVK+9tprpUylNF1Szufi1RzFz7IJCalQpqK7N9JsJkeys77ZdJOZbc77rZXpDHn8x3/8x90c70jAqEfYx+2jcWqAyhH0+QSeHNn/y7/8yzI+vAi73hPha1/72ui0006bVVOer3/966XMOufz90qQ6u+r4ZD9Hlu2bCmP3dAMAJhWzYeCHEnuN/tIZTbNQSKVvmHTmISF/hHhVFbnesHwl7/85VKmCdLenC3ItqTint6BFsO6detKmesnhkfus90JC/0bpKWynqY5NfD031vGM+9wPUPnnnvurmZO4+77cO+993ZjO2Ubai9Jffkb5eh9ZJ0AAEzWfChIxT/XCOQi4LQLT3v72q1m/8hvjpznLEEqvLkgtrYrTyV48+bNs26nHllXPcpcu+Ccr5muI9hb6W2nvue05a/7KEOuRUigevrpp7u5d6o3HkvgGXftQu0qdJK8l3q2oK4rvvjFL5Yy663bkTLbMG7f16CXYLNY+wcAYLmY+lDw0Y9+tBt7t3322aeUtRnMOGljXtuk1yPLqUgmGAzPEmTePJf1Zd40k8njtNVP5XkuaiV33FHuut17Muk6gn333bcbm5v99tuvG9spleknnnhitHHjxhJicvS+vu88zvRhb0c5W5D2+7lWITJ/hjr/Zz/72TJ9Jpmn7uN6VibrzbUE2c91OzJP1jmuJ6eEhzjrrLNK2Vf3z/D9ztXeLg8AsFSs2J7G0A1K15TR6NtnkeRz5TMFAEwbvQ8BAEDjhAIAAGicUAAAAI1rOhTMdAEyAAC0otkLjWExuNAYAJhGmg8BAEDjhAJYQM4SAADTSCgAAIDGCQUAANA4oQAAABonFAAAQOOEAgAAaJxQAAAAjRMKAACgcUIBAAA0TigAAIDGCQUAANA4oQAAABonFAAAQOOEAgAAaJxQAAAAjRMKAACgcUIBAAA0TigAAIDGCQUAANA4oQAAABonFAAAQOOEAgAAaJxQAAAAjRMKAACgcUIBAAA0TigAAIDGCQUAANC4Fdt36MaB98Ajjzwyev7550evvPLK6Kmnnho9/vjjo2OOOWb0wAMPdHMAALy3hAJ4D7zxxhuj2267bfSNb3xj9Oabb3ZT37F27drRHXfc0T0CAHhvTW0oOOOMM0Z33nlnGT/llFNmfZQ1Fa8zzzyzjO+///6jbdu2lXFYLAkEp5566ujJJ58sj1evXj06+uijRwcffPDoE5/4xOiggw4aHXLIIeU5AID3w9SGglSyNm3a1D0ajW6//fYSFGaSytlhhx1WxuvRWidKWGzXXXfd6PLLLy9h4Nvf/vbouOOO654BAFgapv5C43Xr1pXyhhtuKOVMHnzwwRIG9hQeYCGlyVDkzJZAAAAsRVMfCj75yU+WZkBpmvHss892U8f78pe/XMpLLrmklLDYclFxgmiuGdBECABYqqY+FHzwgx/cdbbglltuKeU4999//2jr1q3l+oM9Vc5efvnl0YUXXjg64IADRitWrChDmivNdCFo1p956vxZNutIpTBDnT7TMNz+vF5/nRlyliOvtRCyrv6665Bt76v749BDD901T8avvPLK0iRrqL7fNJuJlHXZul/GLReZnvnT5r6+Vl1mT6Fv0vvJsFBnh+a6fY899lgpP/7xj7/rc1WXy/RJss76OsNh3HvKvu+/RoZ8hmb6zMz02Y06faahbkv2TR7P9H9xb+VzV1930uvkPdV9MOlvX/+W/c91/q6ZNu7z2d+n/aG//vwts33j1jlOlu2va9wwafvn+/0w02sOP8N1/ZP+79Xn62elL8vktfr7LY9dUA+wROWagmm0o3KfiwG2b9myZfuOyn4Zz/D66693c+yuzn/77beXx3X+oWeeeWb7/vvvX55buXJlWW716tW75t8RQLo535Fp9fnMm2XqOjKedaasQ9ab5+r663Dfffd1axy/zrpchnHbMVdZZ3/9dVi7dm03x+77I2Wdp25HpmWevvxN8twVV1yxa9/V1+gvN/xb5XGdP0N9rfr6Gerfb5zhchnq+jK+t+azfdmXmZ6yzjduXwz3YbVx48YyT/+zMuk9ZX/XddbX6H9m+p+vak+f3UhZh/ramac/ff369WXelHm+Pl4M/W3I+xunzlOHof7fsv9e6vx5bvj5rM/133eG+l6zf+s89e/V3478fYYyT57LfP119pfN+NDefD/0/751qNPyf7cvz42bHvVvPe75/D+oz9V90d8+AJaeZREK+o9TiRqqoaFfgRj345RKQP1xHFag+pXj/g9grQjkueEPY54bVxHYU8WpPj9unbWSmGFcJW8uZvrBj/7+SCWjX0nKPq2VlpR9WV/dxuF76O/HYcWlbk/Wl/VXed1aCcqy/ef66mv21W3JuvfWfLavLjNpuboPJ23fuM/KpPeU4JHtGO6fum39z3/M57O7p/25p8/2Qsj6M9T3Nfx/kPef6TWQZRiqf5fhe+z/TYbvYdK6qvzfzHqH+7JfQR7+bep2DJeJSfu67uNxf7fZfD/U5/smbcek6XXb6tB/Pu+x/h8ffh/n/3//oAMAS8fkX7glbvhjVX94hxWfqJWH/o98Hmfoqz+o4ypDMa7CUysewwrETMatp6/+oE46Kl7fz97+uM5UIYm6P8bt06iVrwz9I921wpD3Me4IeP1b5fkq89V1DStOVT3SOKxoRH3NVOj66vRhxWqu5rt9dR/nbzZO3b4M/dBV1c9Xv4I31/fU/zv1zeezu6fX3tNneyHU91I/R8N9Wz+3eb7+Tfqfw/q3HH5WqknvMdMyzEfdjqy7r34+htNj0nbszffDpPc+aTvGTc/ntG7DuPdV9/9wuwFY2qb+moIqbVV3/FCV6wb67VvTNri2YT333HNLOcnDDz9cyvQSk7ayw+G73/1uef6hhx4qZdR7JaS/+YWQba/dpeY9jXPWWWeVsr72YrnnnntKed5555VyKNdm7PjhL+P97mGr3KX3yCOP7B69I9Mj77O2p6/LZ32Trvmo21G3q+8Xv/hFKXdUUkq50PZ2++rfbKjfG9ELL7zQjb3jrbfeKmWunZmvSdu70J/dvvxf6f/fyTUKC9GWvP7fzt9hzZo1ZXy43ltvvbWUeT5t++PXv/51KeOnP/1pKfNd0d/GOlx00UXl+XGf6fmq27G39vb7oe6HAw88sJTzcfbZZ5dt2FH5H/u+6uf/pJNOKiUA02HZhIJY111w/J3vfKeUcffdd5cfsDy3px/CWgFLZSEVguGQ6XHUUUeVsm+hu5pcvXp1N/b+W7VqVTe2MPqV1Ndee60b22ncvp2Nf/qnfyplLuhdTPPdvhpaxqnBapx87mK2n6+E4Fx8m0p4v6I7k8XoJnX4f2jDhg3lpoG56HbcRbzzkf/P+X+d/9/14tpc3JqeyNauXVue32+//cr0559/vpTx9ttvlzLL9bexDv2bzM1HQkouNu7v/8cff7x7dmHMd9vqhe/zrbDngunso3xmzz///G7qeIsRNgFYPMsqFNQzATlCVo9Af/Ob3yzlpCO146xfvz5tBCYO11xzTTcnS8ViHvVeCK+88ko39m6TKsm1x5fZVgBTGc3N+S644IJSCe9XdN9rw/9D9913366ug6+66qpurrmrldoaztIlcdx7772l/OEPf1jKc845p5Q1JNYg0JeKbX8bh8MTTzzRzTk7+XvlyHnCz7XXXrvb/q9H999vTz/9dCnnE/Tz/nITvvwdf/CDH3RTAVgullUo6DdnyRmCHD3MEctUqhb7plHjuuTbG/Vo5Ti/+tWvSpkf5/fCc8891429W63Q7rvvvqWcjX4XnIcffng3ttNTTz3Vjb1brdjVo79V1pe/c/bHYv+d57p99azIuEppVf/W++yzTymr2szl5JNPLuVMsg9SGU3lMxXyZ555ZrcK7kwW+rM7zmmnnTa6+eaby/hCNCOqn7esN3/3hKBIOMzjTI86389//vNSLqbPfOYz5XOYsxRbtmzZbf/PdDZoPub7/bB58+ZS/tEf/VEpZyvrzPuLH//4x7NqflQDHADTYVmFgvj85z9fytxF9sYbbyzjF198cSn35FOf+lQp67UDs1GP4i7UD2C/kjypv/F6VHRSm+KFUo/G3nXXXaUcSkW0Vk5q++6+NJmoR7v7Etgi7f9r5aIeucxR1UlHzuvZgNNPP72U1W233VbKxdwf892+E044oZT1uaFaQc6+GF5/Uc9yfe5znyvlTGozrHweL7vssrHXcgwt9Gd3T+p1Eem3fr7GHemuf/c0m0qlvP85OOKII0rZD6K1gp6/ZX/63sprx0033bRo4XRvvh/yWUtorE2r5uKLX/xieX8JnHt6b/V7o3/tFQBTYPuU2vHD/q5eL6r9u54xMmR8nPp8344fvV3LpgePYW8w6bkj0zNf1e9JZ7gteTyfLknzGnWd/V5TovbskWH4XF4r0yf1njQ00z6MvM/6Wtmmvjy3o1JZnhv2cpL11eWG+yXbXPfx8P3Xnkyy3v6+z3jdJ5mn/1zdxqxz+PeKui15r0Nz3V/z2b6M1/c73IfZtvrcsPvI+nfOaw2Ne091WtbX/1xk/+Tvk+cy9M3nszvutfsmfbazH+rnZbgf6vRJXWj2jfvMZrlMq/uy/1z2Rabl79JXXzNl//9z5HG2f7g9mT/DJPX5fq9Aed91n2QY7ueZ/g9O2tf1szb8W8ek74dsR/38jtvPk7ajTs8w3I4Yt1z9P5kh29OX57L9/f8jACwNyzIU1MpehkkVvvr8UK0o1SGvk6H+oGYY/hDXCkaGjPfnzw/30KSKU9WvQI1bZ4Zx3RHWfZJyNur84/Zh1d8feS9Zpi6XIds2/IGvlZlsb93m+h76yw1lv9aKXYb6WnXasBKUym5df8o6f3+o+7Fuez/A5HF9ndmY6/ZVtdJa58kydbsy9CvJqTT1nxu3vrp/h9vdX65uW8bzmnU/DfWXyXiWqfNmuaFJr13Vz/bw79F/jeHnpT436f9DX93Xw3XU6Xndobr+vuHfsr73/v4YVmjr9En63zt1ffU16nqH/9fqvhn3f3DSvp7r90P2a92OYYCvJm1HnZ7lh/s8Ji3X3xf1s9Df5nGfawDeX8syFKRilR+xDBkfJ8vm+XHyg5WKWv9HNj9omTbu9SI/vP0fvSw7af56NG+mSlB+gIfrzPZmnZN+UOs+mRSEhur8e/qBzntIZSKvX7cl2zWsNFWZP/Nk/Xkf2ea6bPZL3te4CkbUI4n9fZ/xvKfhMvX5uQ7VXPdXzGX7+rKPh/swj4efj8yX57J/J33W6jzZ/r7hvu5/XvJamTbOXD67k167SgDq75s6ZP58XsbtozrPuCPYQ5kv72uoVkLH/Z+q+2Mo25Llhu89+2pc6J702n15/f77z7ryvur/+eE+rZ/B7NehmfZ1tn223w/1czfTZ7R+PiZt36TP4qTlIu+7Ll+3b9K+BeD9tyL/7PjCZsqlnXt6nkmb4R0V14l9078XcuHq8ccfX9puP/DAA93UhbdixYo5vUbmj3zkl9L+aln9rOyoSI9eeumlbioA8F5bdhcatyoX29aeZ1Rw98z+Whq+/vWvl/J73/teKQGA94dQsEykx6Qcbd3TXZvZyf56/6Xnn/QAtHbt2kXvShYAmJlQsAykq8E0gcnR1rl2NTjN9p/jfRoyf4ZW99dSc/3115e/R7rwBADeX64pYMHVduI5ArwQN6oCAGBxCQUAANA4zYcAAKBxQgEAADROKAAAgMYJBQAA0DihAAAAGicUAABA44QCAABonFAAAACNEwoAAKBxQgEAADROKAAAgMYJBQAA0DihAAAAGicUAABA44QCAABonFAAAACNEwoAAKBxQgEAADROKAAAgMYJBQAA0DihAAAAGicUAABA44QCAABonFAAAACNEwoAAKBxQgEAADROKAAAgMYJBQAA0DihAAAAGicUAABA44QCAABonFAAAACNEwoAAKBxQgEAADROKAAAgMYJBQAA0DihAAAAGicUAABA44QCAABonFAAAACNEwoAAKBxQgEAADROKAAAgMYJBQAA0DihAAAAGicUAABA44QCAABonFAAAACNEwoAAKBxQgEAADRuxfYdunGARbPm4ke7MXhvPXjDsd0YAJM4UwAAAI1zpgB4T9QzBY7a8l7xmQOYPWcKAACgcUIBAAA0TigAAIDGCQUAANA4oQAAABonFAAAQOOEAgAAaJxQAAAAjRMKAACgcUIBAAA0TigAAIDGCQUAANA4oQAAABonFAAAQOOEAgAAaJxQAAAAjRMKAACgcUIBAAA0TigAAIDGCQUAANA4oQCYWvfff/9oxYoVZTjjjDO6qbt7+eWXR4ceemiZ54ADDuim7u6NN94YXXfddbvmy3D00UeXaXlunEy/8MIL37XMLbfcUp479dRTd02fNAy3J9s6XGfGr7zyyonbAQALYcX2HbpxgEWz5uJHS/ngDceWciGksnzttdeO9t9//9Gbb7452rp16+iQQw7pnt2pzlNt2bJldNxxx3WPdlbuU4F/8skny3qOOeaYMn3Tpk2lXL169eiBBx4YHXjggeVxPPvss6MTTzyxvGZdJuvJOiKv8ZOf/GT01FNPlcdR13fKKaeUMvbbb7/RHXfcUcbHrTPqcpn28MMPj4488sjymD1bjM8cwHLlTAEwtWqlu54luO2220rZd+edd5YKdb8y3nf22WeXyvwVV1wx2rZtWwkAGV5//fUSCPLccL1f+MIXSuV93bp1oxdffLHM/8QTT5RQkvXss88+o2uuuWbXujJU/Wk1ECRQ1EDQX2eGrDPbkefyugCwGIQCYOqdcMIJpUwA6MvR91SqExrqGYTnn3++lJHncyQ+le5U4vtyZuDb3/52GX/ooYdKGVmmnlW4+uqrdzuDkNfIeuZ6NP/uu+8ulf6VK1eObr755nets76vvG5eHwAWmlAATK3atCaV/lTsEwD6leYf/vCHpfzkJz85Ovjgg8v422+/Xcr46U9/WsoslyZEw+Giiy4qz9fXiTqe5j39yvveuOeee0p53nnnlXIowaCe6ehvCwAsFKEAWBYuvvjiUtYgEBs2bChH9E877bTRvvvuW6Y9/fTTpYwaEHKUPpXt4VCvEUjgGDrppJO6sYWzatWqbgwA3ltCATCVHnnkkVLWCvuaNWtKWZvapGei2kY/jjjiiFK+9dZbpezLUfj0uTBpyPUCALCcCQXAVKtNeFKuXbu2NAVKYLj33nvL9M997nOlzMW/8dJLL5Vyb/WvM1gozz33XDf2brVL0nrGAwAWklAATKV6wfBRRx1Vyjj99NNLme5AN2/eXC7crRf91jKhoeq30889AmajNvF5/PHHd1XU91Z9D3fddVcph7JttSlTPSMCAAtJKACmUr0eoH/kvFaYcy1BKv/DC3dzfUHUAJCgUJsf5SzDMBjkcW5glqZIVa5PSNhI06Srrrpqt2CQ8cxfmzbN1rnnnlvKVPxz87K+bEO2LVIO78MAAAtBKACmUr1guH9xbm1ClAp7fPazny1lVW8I9tprr5Uybr311hIWUiFPZT93JU7PQynz+PLLLx+9+uqr3dw73XjjjaVM+DjssMN29Vb0oQ99qMzf7/Z0NlLRv/3228t41pk7Hdd1ZhuybQkvN910U5kHABaaUABMpXrB8Ic//OFSVuecc04p0zRoeFQ9dxAeytmC3CwsNx1LxTsV8DQnSrBIwEhl/fzzz+/m3ilnC5555pldR/Brb0V5zY0bN74rjEQ9SzFJulXNnZCH68w2ZZ252HmhukAFgKEV29O1BsAiW3Pxo6V88IZjSwmLzWcOYPacKQAAgMYJBQAA0DihAAAAGicUAABA44QCAABonFAAAACNEwoAAKBxQgEAADROKAAAgMYJBQAA0DihAAAAGicUAABA44QCAABonFAAAACNEwoAAKBxQgEAADROKAAAgMYJBQAA0DihAAAAGicUAABA44QCAABonFAAAACNEwoAAKBxQgEAADROKAAAgMYJBQAA0DihAAAAGicUAABA44QCAABonFAAAACNEwoAAKBxQgEAADROKAAAgMYJBQAA0DihAAAAGicUAABA44QCAABonFAAAACNEwoAAKBxQgEAADROKAAAgMYJBQAA0DihAAAAGicUAABA41Zs36EbB1g0ay5+tBuD99aDNxzbjQEwiTMFAADQOGcKAACgcc4UAABA44QCAABonFAAAACNEwoAAKBxQgHAAvjbTa90YwAwfYQCgAXw/c2vdmMAMH2EAgAAaJxQAAAAjRMKAACgcUIBAAA0TigAAIDGCQUAANA4oQAAABonFAAAQOOEAgAAaJxQAAAAjRMKAACgcUIBAAA0TigAAIDGCQUAANA4oQAAABonFAAAQOOEAgAAaJxQAAAAjRMKAACgcUIBAAA0TigAAIDGCQUAANA4oQAAABonFAAAQOOEAgAAaJxQAAAAjRMKAACgcSu279CNAzCDZ196e/TY89u6R7v7h//22ujTJxzUPdrdyat/Z7Tywx/oHgHA0iMUAMzS//jX/zm64FvPjH657d+7KXv22//pP4y+f+VRpQSApUrzIYBZSsU+R/3n4lPH/75AAMCSJxQAzEGaCP3uAb/VPZpZwsCkJkUAsJQIBQBzMJezBc4SADAthAKAOZrN2QJnCQCYJkIBwBzN5myBswQATBOhAGAeZjpb4CwBANNGKACYh5nOFjhLAMC0EQoA5mnc2QJnCQCYRm5eBuyy5uJHuzFYvh684dhuDIDKmQIAAGicMwXALvVMgSOpc/O3m14ZfX/zq6M/P/kPRuec8tFuKkuNzzfAZM4UAOylXEOw8sMfcC0BAFNLKADYS7m4+Kuf/5gehwCYWkIBwAL4vQP+YzcGANNHKAAAgMYJBQAA0DihAAAAGicUAABA44QCAABonFAAAACNEwoAAKBxQgEAADROKAAAgMYJBQAA0DihAAAAGicUAABA44QCAABonFAAAACNEwoAAKBxQgEAADROKAAW1QEHHDBasWLFu4Yzzjijm2OnRx55pEzrz3/00UePbrnllm6O3V133XVlniz3xhtvjC688MJdyx566KHl+UlefvnlMn/mq6+V8SuvvLKsayaT3k+GSdsKAEudUAAsqjfffLOUp5xyym7Dxz/+8TI97rjjjtHxxx8/uvPOO0ulO8+vXr169OSTT44uuOCCEg4mVdaff/750WGHHTbasGHD6JhjjinLbd26dXT55ZePTj311G6udzz77LNlnsy/bdu2XduTZa699tqyrswzTgJI3s/++++/a7kMK1euLM+//fbbpQSAaSMUAO+JBx54YLfhsssuK9NT0T7zzDPL+MaNG0cvvfRSef6JJ54YbdmypVTAEw6+9a1vlXmGEhpSKU+lvi53++23l+c2bdpUAkeVYHHiiSeWiv26detGL7744q7tyfIJC3nuC1/4QrfEeAkfdbkM5513XvcMAEwnoQB4X33nO98pZSrp559/fhmvjjvuuNHNN99cxnNkf5xU5FMxP+SQQ7opo9IMKeuLf/zHfyxl3H333aXSnxCR9R544IHdM6OyfM5URELIuLMFjz32WCmPOuqoUgLAciEUAO+rWhE/66yzSjlUrz1IZT5nFYb+7M/+bLfKfXXCCSeUMhX86p577inlpCP7CQZpDhQ5yzD085//vJQf/ehHSwkAy4VQACwJhx9+eDe2MD7ykY+UMs2ChlatWtWNzU2aJsURRxxRSgBYLoQCgFlIj0X1rEOaNQHAciIUAEvCCy+80I3trt/r0D777NON7dkvfvGLUuaag6HnnnuuG3u3+nr77rtvKavHH3+8lGvXri0lACwnQgHwvqqV9p/85CelHHrwwQdLmYuDjzzyyDLed9ddd43trvR73/teKdOdaVUvEM4y4/TPBqxZs6aU1Q033FDK008/vZQAsJwIBcD76uKLLy5l7hHQ7z40cmFxbjIWl156aSmHUonP/QhSoa+ynnqhcP8C5nPPPbeUWaaut8ry9SxAyn5vRllflslFyMObrgHAcrBi+w7dONC4NRc/WsoHbzi2lAshd/qNmb5qUkGvXY7mjEDuLpyj//WofboXrV2TVrljcW5QljMNuZg4vROl0t5f7oorrhhdc801ZbxKBb/eFyH3QMg9B6KGiNrFaXo0qnc+TtOhrD/PjevpKPdWyDbUbT/ppJN23YeBpWMxPt8Ay4VQAOyyWKEgle/cPXgmqaynyU+/K9AcsT/nnHNGp512WjflHTUUrF+/voSBv/7rv97VvWkq7zkDMemofs5A5P4ImzdvLpX9yDK5aVn/XgmZL3danqtsT4IFS4tQADCZ5kPAospxhz0FgkgFPhXpzF+HBIVxgWAo1xpk3rpcug6dqZlPeg/K/Nmu/jLDm6dVCR51vpmG3IEZAKaRUAAAAI0TCgAAoHFCAcAEc7kvQtT599tvv1ICwLQQCoCpNrzJ2ELKtQq5VmC2PQnV+XO9AgBME6EAmEqpqKcCPuniYABg9oQCAABonFAAAACNEwoAAKBxQgEAADROKAAAgMYJBQAA0DihAAAAGicUAABA44QCAABonFAAAACNEwoAAKBxQgEAADROKAAAgMYJBQAA0DihAAAAGicUAABA44QCAABonFAAAACNEwoAAKBxQgEAADROKAAAgMYJBQAA0DihAAAAGicUAABA44QCAABonFAAAACNEwoAAKBxQgEAADROKAAAgMYJBQAA0DihAAAAGicUAABA44QCAABonFAAAACNEwoAAKBxQgEAADROKAAAgMYJBQAA0DihAAAAGicUAABA44QCAABonFAAAACNEwoAAKBxQgEAADROKAAAgMYJBQAA0DihAAAAGicUAABA44QCAABonFAAAACNEwoAAKBxQgEAADROKAAAgMYJBQAA0DihAAAAGicUAABA44QCAABonFAAAACNEwoAAKBxQgEAADROKAAAgMYJBQAA0DihAAAAGicUAABA44QCAABonFAAAACNEwoAAKBxQgEAADROKAAAgMYJBQAA0DihAAAAGicUAABA44QCAABonFAAAACNEwoAAKBxQgEAADROKAAAgMYJBQAA0DihAAAAGrdi+w7dONC4NRc/2o3B8vXgDcd2YwBUzhQAAEDjnCkAAIDGOVMAAACNEwoAAKBxQgEAADROKAAAgMYJBQAA0DihAAAAGicUAABA44QCAABonFAAAACNEwoAAKBxQgEAy8o//LfXRlv/+2+6RwDMhlAAwLKy8qAPjC7Z8JxgADAHQgEAy8qRh+47uuSMQ0sw+B//+j+7qQDMRCgAYNk5dtWBoz8/+Q9KMABgz4QCAJalT59w0M6mRDcLBgB7IhQAsGxdesZho9894LcEA4A9EAoAWNYSDOKrf/OzUgLwbkIBAMve9ReuGv3Lm/822vCjf+6mANAnFADQhOvXrRo9u/Xt0aYnftlNAaASCoA9SiVKRYpp99v/6T+UYLDxRz8fPfrcG91UAEIoAGaUu8N+f/Oro9/b/z92U2B61WCQ6wuefentbioAK7bv0I0D7Cbtr9Pc4quf/9jo9w4QClg+Egi++r2flYCw8sMf6KYCtEsoAN4ld4FNIPjltn8fffW/fqwcXYXlRjAAeIdQAOwmgeD6O14qfbvnjrACActZri1IAN74pT/0WQea5poCYJet//03owu+9YxAQDOOXXXg6NPHHzS6ZIObmwFtc6YAKBIIvnnni6OTV//O6NMnHNRNhTZ8844XS3O53M8AoEXOFAClbfVXvvfC6FPH/75AQJNy1+OcGbvkZmcMgDY5UwCNS5ej/7DltdG6//K/lqYU0LKEglx0nP8PAC0RCqBhf7vpldFjz2/T5Sh0cqF9ri/QjA5ojVAADapdjm597TcCAQzUYJDmdKcc/bvdVIDlzTUF0Jja5Wi5qHLdKoEABnJtQcLyxh/9vHRZCtACZwqgIe5BALNXu+hNeD7y0H27qQDLkzMF0IhawTnkoP9cLqIUCGBmueA4gSB3Pc7/H4DlzJkCaEC6HM09CHJ2QBtpmJv8/0kw2PClIzW3A5YtZwpgmUub6ASCnB0QCGDu0nQogToXH6cJHsBy5EwBLGP1HgSXrj1Mm2jYS+mx69mtb482fukPuykAy4dQAMtUrcDochQWzjfveHFnz10XruqmACwPQgEsM/UeBKm4fPW/fswFxbDAvvo3P9vZk5dgACwjrimAZaR2ORoCASyO/N+KhG+A5UIogGXiX7b9W+lyNPcg0OUoLK4EgzTP2/TEL7spANNN8yFYBtKH+le+98Lo08cfNPr0CQd1U4HFlDNzCeK6+gWWA2cKYMqlD/UEglRMBAJ47+RsXG5utvFHPy//DwGmmTMFMMVql6NpLnTsqgO7qcB7qd4tPF2V5i7IANNIKIApVQNBjlTqchTeX/Wux/n/KBgA00gogCmTdszf3/yqexDAElODwYYvHen/JTB1hAKYIrXL0ZS6HIWlp57BS1Mi/z+BaSIUwJSogSBdjuaiYhUOWJpy1+Otr/2mBAOAaaH3IZgC9UJG9yCApe/SMw4brTzoA6NLbn6umwKw9DlTAEtcvQeBvtBhuiQUJMDXOyADLGVCASxhjz73xmjDj/5Zl6MwpXKG78iV+5b/wwBLmeZDsETlgkWBAKZbuihNT2GbnvhlNwVgaXKmAJagv930yuix57fpchSWgXQS8OfXPDW64L8crAkgsGQJBbCEpPKQswO/3PbvuhyFZeRftv3baN23ni1B/8hD9+2mAiwdQgEsEbXL0bjkjEMFAlhm0mnAJRuec9djYEkSCmAJyFHEBIJUFNyDAJavetdjwQBYalxoDO+zevTwE6sOcA8CWObSdChnAvN/PmcHAZYKZwrgfZSjht+880X3IIDGpHexzU/+P+56DCwZQgG8T1Ip+Ictr+lyFBr1zTteLJ0KXH/hqm4KwPtHKID3QQ0EX/v84doVQ8O++jc/29nJgGAAvM+EAngP5cf/+5tfLTczcg8CIC65+bnR7x7wW6NLzzismwLw3nOhMbxHapejubA4PY8IBEDkniRbX/tNuWnhTPId4uJkYLEIBfAeqIEgRwPdlAzoy/dBDhTkLuabnvhlN3V36bb4gm89U5oeAiwGoQAWWc4M5Mc8gUCXo8A4+V5Ik8KNP/r56NHn3uim7lS7Lc5Fyfds+b+7qQALSyiARZQf869874XRp48/qAQCgEnSpDBnDHLxcborjn4giJx1zFkDgIUmFMAiyY96AkHCwKdPOKibCjBZeiMrweB7PytNicbd5CwdFQAsNKEA5mjDj/65G5ss7X5zUzL3IADmKnc9Pvno3ynXIY27sPj/fO7Nbgxg4QgFMAc5+p8Kf7oQnCQ9iOROpTnaJxAAc1XuYzLDBcXOFACLQSiAOUhlP8p9Bv7mZ2W8yhG93KE0PYjochSYj5yJ3NPZSNcVAItBKIBZyg/xY89t6x6NSg8htfvAPJdT/bkYMIFAD0PAXNSDCrPtcrT/XQSwEIQCmKX8WOeHuy9BINNz1sA9CID5ynfJ5id2nomcjf9r66+6MYCFIRTALKVZ0Dg51e8eBMDeuOSMQ8t3SL5LZiNnKocHKQD2hlAAs5Af4PQXPklO5c/0PMBMckAhXRf/3ZWryxnH9D60J8ObnAHsDaEAZuHBJ/7fbmy8HLFLf+Iu/gP2Vnotu/SMw0YP3nDsjGcPNCECFtKK7Tt048AYqfD/+TVPzepUfX68c6QPYCGlO+T0fta/7iBnF+75+h91jwD2jlAAe5D7Dnx/86vdoz07cuW+o+svXNU9AlhY6dwgTRbTNfL3rzxK98fAghAKYA8u+NYzs75eIEfuVh70gdGnTvh9Ny4DFlX9Xlr54Q+UEmBvCAUwg1zIN7xJ2VB+kHN24BNHHFDG9UAEAEwboQBmkEAw7OEjlf6EgP991f6jQw/6bUfpAICpJxTABPUC40iToP9t5QdLkyAhAKjWXPxoNwbTKb1cQQgFMEG6F/3Nv/5/pUchTYKAcYQCpp1QQCUUAMA81VCgYsW08dllyM3LAACgcUIBAAA0TigAAIDGCQUAANA4oQAAABonFAAAQON0SToP+qVmGul2Dhaebh2ZVj67DDlTAAAAjXOmYB6ka6aJzyssHv+/mFY+uww5UwAAAI0TCgAAoHFCAQAANE4oAACAxgkFAADQOKEAAAAaJxQAAEDjhAIAAGicUAAAAI0TCgAAoHFCAQAsIffff/9oxYoVZTjjjDO6qbt7+eWXR4ceemiZ54ADDuim7u6NN94YXXfddbvmy3D00UeXaXluKK9V5+sP/fVnuVtuuaWspz6f9V944YVzWmd/mPQeH3nkkfJcXr/Om9fN688kz/fX3x+Gy5566qll+rPPPttN2V19PtsylPeb9z3cv3mNcfsCljqhAACWkEcffbSU+++//+jOO+8sAWDotttuG23durWMv/nmm++qtKZSmgrt5ZdfPtq2bdvolFNOKcOTTz5ZpuW5YcX1rbfeKuXq1at3zZ/h5JNPLtOzHYcddtjoggsuKK9dn8/4hg0byjqHJq0zQ6ZFnafvjjvuGB1//PHl/ScU1Pmz/Xn9VL4nVbwffvjhUvZfc+XKlWXa22+/XcqhX//6193YOxKeNm3a1D3aXUJE9kXed92//e174YUXujlheggFALCEPPXUU6WsR9ATAIZSWU5oSGV0nLPPPrtUUK+44opSaX3ggQfK8Prrr++qvI5bb3z729/eNX+GVNAjFedU0G+//fbd1vnMM8+Ubck667xDw3VmyLRxEnDOPPPMMr5x48bRSy+9VOZ/4oknRlu2bNn1Wt/61rfKPEM1ZPRf87zzzivTZivbkPA0yRe+8IUSxtatWzd68cUXd21fAlL2+T777NPNCdNDKFhGctQkX2Q5upFTmvW0Zx4DMF1OOOGEUiYA9OUodSqfCQ2HHHJImfb888+XMvJ8jnCn8n/NNdd0U3c68MADd1XGH3rooVLO1pFHHlkq6MPmPplep73yyiul3Bvf+c53SpkK9/nnn1/Gq+OOO2508803l/EcpR/n8ccfL+Xhhx9eyrnKb+mf/umflvF6hqEv+zehJOHk6quvLvu0yt8j+zz7BKaNULAM5JRuQsCHPvShcro1RzfyZVlPe+67776lBGDpq9/dqWinYp8A0G/z/sMf/rCUn/zkJ0cHH3xwGe83i/npT39ayiyXg0PD4aKLLirPT2oaMx91OxZCDUFnnXVWKYdqABnXbCoyPfqV9bnIWZasI2cpcr3AUN1vxxxzzLxfA5YioWDK5YciPxr1iElOJefUZb7Mcpo1p4qHR1oAmA4XX3xxKWsQiHzf5yj1aaedtuugz9NPP13KqAEhFdtUYIdDjnJHfjvmo56R7geN7373u92zC2c+R/prSJjUrGpP6nUEWX5Pv50nnXRSNwbLg1Aw5XJWIF/8a9euLUeF0q4xpy7zZZbTrI5iAEyPWqmtFfY1a9aUsh49T89E+c5P05o44ogjSjnuYt1UbLdv3z5xSBv4uagXL9cz0v2gkd+fpaA2ozrqqKNKORc5yJb3lcD1gx/8oJsK7RAKplhtN5o2j7m4q7YtBWC61QM6KetBnwSGe++9t0z/3Oc+V8p6QWva+i+2q666qvzmJLDcd9995Ux0DRjr16/v5lo4k3rw6fc6NLygt/Y8dOyxx5Zytn71q1+NPvOZz5TxH//4x7M6oDbXazJgqRMKpli+nOPSSy8tJQDTbdyR7tNPP72UP/nJT0abN28uB4Lqhay17B+pr01n8hsxrjvT+arr+trXvlaaLi3Wmeh6liTvd5wHH3ywlP39ENm+2itTtm8uvvjFL5Z9mHCTs+wzWbVqVSlzQfOkblFhGgkFS0i9YLh/I5SMX3nllWO/eOpRipw+zhGkXHzVXy5tI2f6wprLDV4iZyP6r5Gu6fK4fwHcULZheJObvJ+812xznT7TULcl6+o/Blhu6vUA/Q4iahOiXEuQiuuwe81UgqNW2lNRrhXrnGWo06s8zvdpmiLNRz1bUeW34Rvf+Eb3aO/V6yiuvfbad3Vxmt+N/E7G8IBYrqeL2rRqLrJfE6Yuu+yybspkCRwJJGnGlbMn/d/ZjGff1mZgME2EgiWif8Fw/0Yz+aLKF2NukjKsfNdu1/7+7/9+101eskzWk+XSNjLtPycFg7nc4CUV+/QbXV8jQ+TxiSee+K4fnbxmlsk25KK2ukx9P3fffXc57VunZ6ivnbI//Q/+4A/K9GrSzWcApl29YLgejY7ahCiV0PjsZz9byiq94MRrr71Wyrj11ltLWMj3b75T832c34OUeZzv5ldffbWbe3ZyND3yO5UDPFlfyvw21O/vhZCDTbVin3XX18q257euXlNRLwROuMk8+T3KdnzpS18q0+dirtcR3HjjjaXMvsjvc7YvQ3oBzL7tdxEL00IoWAJSgU7Fun7R1RuhZEglOpX2PJebpfTVH4h8KWW5tO+sN1Dp30xm0g1q5nKDl7xWTqvW18iQ7azbdv3113dz7pSbyuS1a0Cpy2T59Iz00Y9+tBzNqtMz1NdO2Z8+19PAANOqfi9/+MMfLmV1zjnnlDIHSobXj+23337d2Dvy/Zrv6Bw9z/dwvo/TnCjf1wkYuQHZpN51Jt14K9/FuZagfq9nffmdyXd6QshMxq1z0utE7kWQbcz7ra+V95BtzzbUexVEwk3myXNpXjWuWdOeuuaedB3BuH0b2Rf5nc1rRrYvQ7Y3+2MY3GAqbGfO/o8vPVKGhbLjC2R7/hQrV67spuxux5ddeT7Dji+hbur2XdN2fHF2U3a3oxJfnt/xBd5N2d2OL/Py/I6KejflnWVSzkZeO/Pv+CLspuxU171ly5Zuyp7t6bXnum3stNCfV+Ad/n8xrXx2GXKmYAm45557SjnpKH2OCuXoQ+RIxFC9kcvQJz7xiVLm6Mo49UzD3lws9pGPfKQbe0faUtZ17+mCrflIf9j1VG2GtC+ddGt9AAD2TChYQvptSOdi2J6/mqlCXi+CqmFjNurFaQkhtUJe74w5zlzWPRf1VHId0nwq7U7T3nTS9RMAAEwmFCwD/YvL+maqIM/1Bi/pMahenJaLuWqFfNJZiMW0fv36XX1jZ0j70nr9RHqCAABgboSCJeS5557rxt6tVvD7F0vV3h5y05Vx6o1fUmEemssNXtI0Jz0GZT258CtH6muFfMuWLd1c75bQ8F7IBV/1ojPNiAAA5k4oWALq0fq77rqrlENptlOPyNf+quPkk08u5bDP6CpdlcbwmoOsL0f7U8mfTc8+r7zySinTw1HWtac7Jx9++OHd2DvNlBbbBz/4wVLm3gkAAMyNULAEnHvuuaVMxb/elKVKBb52eZayXyE/66yzSpk29cMj5LnBV6an4n/JJZd0U3ea7w1e0tVbv0lSKvzjrinIhct13Xl+eM1DtnUhb0CWbfrKV75SxmtQAgBg9oSCJSAV/TTLiVTkc7S7XsibJkIJC+kX+qabbirzVLmQuFbw+zd4SXnBBReU6WlWU4PEfG/wkv6Wa5v9epOWehOZSRJE6jJ5rfp+8t6yrbX50nwMex/KzWLqPrr66qu7uQAAmC2hYIlIs5y0zx/eCCUV3dwIJTckG9d16DXXXFMutE1PP7VXntwROUfq87jfdGi+N3hJqEglPsulq9G8RsoEktxcLJX/oSyTG+dkOxIK6vvJeJbLNQpDe7q5THpnyvLD3ofy3rOPsi17070qAECrVmzP1aLMyZqLHy3lgzfs+SJdeL/5vMLi8f+LaeWzy5AzBQAA0DihAAAAGicUAABA44QCAABonFAAAACNEwoAAKBxQgEAADROKAAAgMYJBQAA0DihAAAAGicUAABA44QCAABonFAAAACNEwoAAKBxQgEAADROKAAAgMYJBQAA0DihAAAAGicUAABA44QCAABonFAAAACNEwoAAKBxQgEAADROKAAAgMYJBQAA0DihAAAAGicUAABA44QCAABonFAAAACNEwoAAKBxQgEAADROKAAAgMYJBQAA0DihAAAAGicUAABA44QCAABonFAAAACNEwoAAKBxQgEAADROKAAAgMYJBQAA0DihAAAAGicUAABA44QCAABonFAAAACNEwoAAKBxQgEAADROKAAAgMYJBQAA0DihAAAAGicUAABA44QCAABonFAAAACNEwoAAKBxQgEAADROKAAAgMYJBQAA0DihAAAAGicUAABA44QCAABonFAAAACNEwoAAKBxQgEAADROKAAAgMYJBQAA0DihAAAAGicUAABA44QCAABonFAAAACNEwoAAKBxQgEAADROKAAAgMYJBQAA0DihAAAAGicUAABA44QCAABonFAAAACNEwoAAKBxQgEAADROKAAAgMYJBQAA0DihAAAAGicUAABA44QCAABonFAAAACNEwoAAKBxQgEAADROKAAAgMYJBQAA0DihAAAAGicUAABA44QCAABonFAAAACNEwoAAKBxQgEAADROKAAAgMYJBQAA0DihAAAAGicUAABA44QCAABonFAAAACNEwoAAKBxQgEAADROKAAAgMYJBQAA0LgV23foxpmlNRc/2o3B9HjwhmO7MWCh1N8D/7+YNj67DDlTAAAAjXOmAADmyZljpp0zBVTOFAAAQOOcKQAAgMY5UwAAAI0TCgAAoHFCAQAANE4oAACAxgkFAADQOKEAAAAaJxQAAEDjhAIAAGicUAAAAI0TCgAAoHFCAQAANE4oAACAxgkFAADQOKEAAAAaJxQAAEDjhAIAAGicUAAAAI0TCgAAoHFCAQAANE4oAACAxgkFAADQOKEAAAAaJxQAAEDjhAIAAGicUAAAAI0TCgAAoHFCAQAANE4oAACAxgkFAADQOKEAAAAaJxQAAEDjhAIAAGicUAAAAI0TCgAAoHFCAQAANG00+v8BJjDWIyolKxoAAAAASUVORK5CYII=)"
      ]
    },
    {
      "cell_type": "code",
      "metadata": {
        "id": "__iid9AtIHCi",
        "colab": {
          "base_uri": "https://localhost:8080/",
          "height": 35
        },
        "outputId": "f87f9f43-f803-470c-bbdf-571ee242ae21"
      },
      "source": [
        "class Plase: #создаем класс место\n",
        "  def __init__(self, sq, p):\n",
        "    self.square = sq #пдощадь территории\n",
        "    self.populatiom_number = p #численность населения\n",
        "\n",
        "class City(Plase): # создаем класс-наследник город\n",
        "  def __init__(self, sq, p, i):\n",
        "    super().__init__(sq, p) #обращение к классу родитель\n",
        "    self.infrastructure = i \n",
        "\n",
        "class Megalopic(City): # создаем класс-наследник \n",
        "  def __init__(self, sq, p, i, s):\n",
        "    super().__init__(sq, p, i) #обращение к классу родитель\n",
        "    self.skycraper = s\n",
        "  def info(self):\n",
        "    return \"Площадь: {}, Население: {}, Инфраструктура: {}, Высотка: {},\".format(self.square, self.populatiom_number, self.infrastructure, self.skycraper) #выдаем информацию\n",
        "\n",
        "class Obl(City):\n",
        "  def __init__(self, sq, p, i, t):\n",
        "    super().__init__(sq, p, i) #обращение к классу родитель\n",
        "    self.town = t\n",
        "  def info(self):\n",
        "    return \"Площадь: {}, Население {},Инфраструктура: {}, Количество городов {},\".format(self.square, self.populatiom_number, self.infrastructure, self.town) #выдаем информацию\n"
      ],
      "execution_count": 8,
      "outputs": [
        {
          "output_type": "execute_result",
          "data": {
            "application/vnd.google.colaboratory.intrinsic+json": {
              "type": "string"
            },
            "text/plain": [
              "'Площадь: 2561, Население: 13, Инфраструктура: предприятия, учереждения, транспорт, Высотка: Москва-Сити,'"
            ]
          },
          "metadata": {
            "tags": []
          },
          "execution_count": 8
        }
      ]
    },
    {
      "cell_type": "code",
      "metadata": {
        "colab": {
          "base_uri": "https://localhost:8080/",
          "height": 35
        },
        "id": "oPu1lGjHVv4E",
        "outputId": "ac0d7f9b-3d27-4c15-9876-676dc967ff1d"
      },
      "source": [
        "m1 = Megalopic(2561, 13, \"предприятия, учереждения, транспорт\", \"Москва-Сити\")\r\n",
        "m1.info()"
      ],
      "execution_count": 13,
      "outputs": [
        {
          "output_type": "execute_result",
          "data": {
            "application/vnd.google.colaboratory.intrinsic+json": {
              "type": "string"
            },
            "text/plain": [
              "'Площадь: 2561, Население: 13, Инфраструктура: предприятия, учереждения, транспорт, Высотка: Москва-Сити,'"
            ]
          },
          "metadata": {
            "tags": []
          },
          "execution_count": 13
        }
      ]
    },
    {
      "cell_type": "code",
      "metadata": {
        "colab": {
          "base_uri": "https://localhost:8080/",
          "height": 35
        },
        "id": "juAjq6fcYyCE",
        "outputId": "807e24c7-c4b3-4054-e333-3c53778301c5"
      },
      "source": [
        "o1 = Obl(44300, 7, \"предприятия, учереждения, транспорт\", 74)\r\n",
        "o1.info()"
      ],
      "execution_count": 14,
      "outputs": [
        {
          "output_type": "execute_result",
          "data": {
            "application/vnd.google.colaboratory.intrinsic+json": {
              "type": "string"
            },
            "text/plain": [
              "'Площадь: 44300, Население 7,Инфраструктура: предприятия, учереждения, транспорт, Количество городов 74,'"
            ]
          },
          "metadata": {
            "tags": []
          },
          "execution_count": 14
        }
      ]
    },
    {
      "cell_type": "code",
      "metadata": {
        "colab": {
          "base_uri": "https://localhost:8080/"
        },
        "id": "rlw4Enp0TdyE",
        "outputId": "11f5e8eb-be67-493f-f0cf-9e9a8ac231e1"
      },
      "source": [
        "\n",
        "\n",
        "print(\"Область:\", \"площадь:\", 44300,'км,', \"население:\", 7, \"млн\", \"инфраструктура:\", 'предприятия, учереждения, транспорт,', 74, \"города\")\n",
        "print(\"Мегаполис:\", \"площадь:\", 2561,'км,', \"население:\", 13, \"млн\", \"инфраструктура:\", 'предприятия, учереждения, транспорт,',\"высотка:\" \"Москва-Сити\")"
      ],
      "execution_count": null,
      "outputs": [
        {
          "output_type": "stream",
          "text": [
            "Область: площадь: 44300 км, население: 7 млн инфраструктура: предприятия, учереждения, транспорт, 74 города\n",
            "Мегаполис: площадь: 2561 км, население: 13 млн инфраструктура: предприятия, учереждения, транспорт, высотка:Москва-Сити\n"
          ],
          "name": "stdout"
        }
      ]
    }
  ]
}