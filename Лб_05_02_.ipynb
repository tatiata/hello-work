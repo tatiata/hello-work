{
  "nbformat": 4,
  "nbformat_minor": 0,
  "metadata": {
    "colab": {
      "name": "Лб 05.02.",
      "provenance": [],
      "collapsed_sections": [],
      "authorship_tag": "ABX9TyPZE0EcuWu3gKsAMWldlHpw",
      "include_colab_link": true
    },
    "kernelspec": {
      "name": "python3",
      "display_name": "Python 3"
    }
  },
  "cells": [
    {
      "cell_type": "markdown",
      "metadata": {
        "id": "view-in-github",
        "colab_type": "text"
      },
      "source": [
        "<a href=\"https://colab.research.google.com/github/tatiata/hello-work/blob/main/%D0%9B%D0%B1_05_02_.ipynb\" target=\"_parent\"><img src=\"https://colab.research.google.com/assets/colab-badge.svg\" alt=\"Open In Colab\"/></a>"
      ]
    },
    {
      "cell_type": "markdown",
      "metadata": {
        "id": "iYnaHiK3q6t9"
      },
      "source": [
        "№ 5.2.1\r\n",
        "Определите значение z=sgn(x)+y2sgn(y)−|x|−−√, где sgn - сигнум-функция, а x и y - вещественные числа:\r\n",
        "\r\n",
        "sgn(a)=⎧⎩⎨1,0,−1,a>0,a=0,a<0"
      ]
    },
    {
      "cell_type": "code",
      "metadata": {
        "id": "zs-9TZIdWJXy",
        "colab": {
          "base_uri": "https://localhost:8080/"
        },
        "outputId": "5fa70e7d-b5bc-4522-bd80-4c66d44fdea5"
      },
      "source": [
        "# Задание task_05_02_01.\n",
        "#\n",
        "# Выполнил: Молодцова\n",
        "# Группа: !!!\n",
        "# E-mail: !!!\n",
        "\n",
        "import math\n",
        "def sgn(x):\n",
        "    global s\n",
        "    if x>0:\n",
        "      s=1\n",
        "    elif x<0:\n",
        "      s = -1\n",
        "    else:\n",
        "      s=0\n",
        "    return s #Вернуть результат сигнум-функции.\n",
        "\n",
        "x = int(input(\"x= \"))\n",
        "y = int(input(\"y= \"))\n",
        "\n",
        "z = (sgn(x) + y**2)/(sgn(y) + math.sqrt(math.fabs(x)))\n",
        "print(\"Ответ:\", round(z, 2))\n",
        "\n",
        "\n",
        "# --------------\n",
        "# Пример вывода:\n",
        "#\n",
        "# Введите x: -9\n",
        "# Введите y: 0\n",
        "# Ответ: 0.33\n"
      ],
      "execution_count": null,
      "outputs": [
        {
          "output_type": "stream",
          "text": [
            "x= -9\n",
            "y= 0\n",
            "Ответ: -0.33\n"
          ],
          "name": "stdout"
        }
      ]
    },
    {
      "cell_type": "markdown",
      "metadata": {
        "id": "HEfx6fKsuOha"
      },
      "source": [
        "№ 5.2.2\r\n",
        "\r\n",
        "Дан список температурных изменений в течение дня (целые числа). Известно, что измеряющее устройство иногда сбоит и записывает отсутствие температуры (значение None).\r\n",
        "\r\n",
        "Выведите среднюю температуру за наблюдаемый промежуток времени, предварительно очистив список от неопределенных значений. Гарантируется, что хотя бы одно определенное значение в списке есть."
      ]
    },
    {
      "cell_type": "code",
      "metadata": {
        "id": "pXVMoFiYuPyo",
        "colab": {
          "base_uri": "https://localhost:8080/",
          "height": 128
        },
        "outputId": "d88376a6-ed4b-4ba3-9e81-a6375d0539a4"
      },
      "source": [
        "def avg(data):\r\n",
        "    for i in range(date):\r\n",
        "          \r\n",
        "\r\n",
        "\r\n",
        "def cleared_data(data):\r\n",
        "    n = data.count(None)\r\n",
        "    for i in range(n):\r\n",
        "        del None\r\n",
        "    return date\r\n",
        "\r\n",
        "n = int(input(\"n= \"))\r\n",
        "for i in (n):\r\n",
        "    tmp = int(input(\"Введите число: \"))\r\n",
        "    if tmp == \"-\":\r\n",
        "          date.append(None)\r\n",
        "    else:\r\n",
        "          date.append(tmp)\r\n",
        "    \r\n",
        "date = cleared_data(date)\r\n",
        "avg_tmp = avg(tmp)\r\n",
        "print(avg_tmp)\r\n",
        "\r\n",
        "\r\n",
        "# --------------\r\n",
        "# Пример вывода:\r\n",
        "#\r\n",
        "# Кол-во измерений: 3\r\n",
        "# Измерение 1-е: 10\r\n",
        "# Измерение 2-е: -\r\n",
        "# Измерение 3-е: 20\r\n",
        "# Средняя температура: 15.00\r\n"
      ],
      "execution_count": null,
      "outputs": [
        {
          "output_type": "error",
          "ename": "IndentationError",
          "evalue": "ignored",
          "traceback": [
            "\u001b[0;36m  File \u001b[0;32m\"<ipython-input-30-695b6f83fa4e>\"\u001b[0;36m, line \u001b[0;32m6\u001b[0m\n\u001b[0;31m    def cleared_data(data):\u001b[0m\n\u001b[0m                           ^\u001b[0m\n\u001b[0;31mIndentationError\u001b[0m\u001b[0;31m:\u001b[0m expected an indented block\n"
          ]
        }
      ]
    },
    {
      "cell_type": "markdown",
      "metadata": {
        "id": "JtWKDp5F5mhU"
      },
      "source": [
        "№ 5.2.3\r\n",
        "\r\n",
        "Выведите все счастливые номера билетов в диапазоне от a до b (положительные целые числа, a<b), если известно, что счастливым считается номер, у которого количество четных цифр равно количеству нечетных.\r\n"
      ]
    },
    {
      "cell_type": "code",
      "metadata": {
        "id": "L-hA9JOo5tnj",
        "colab": {
          "base_uri": "https://localhost:8080/",
          "height": 262
        },
        "outputId": "0ebeef6e-3975-45da-d67d-a9311b7453ca"
      },
      "source": [
        "lucky_numbers = 0\r\n",
        "unlucky_numbers = 0\r\n",
        "def is_lucky(num):\r\n",
        "    while x!=0:\r\n",
        "          k=x%10\r\n",
        "          x=x//10\r\n",
        "          if k==x:\r\n",
        "              lucky_numbers = lucky_numbers +1 \r\n",
        "          else:\r\n",
        "              unlucky_numbers = unlucky_numbers + 1\r\n",
        "    if lucky_numbers == unlucky_number:\r\n",
        "          return True\r\n",
        "    else:\r\n",
        "          return False\r\n",
        "\r\n",
        "def lucky_numbers(a, b):\r\n",
        "      for i in range(a, b+1):\r\n",
        "          if is_lucky(num):\r\n",
        "              list.append(lucky)\r\n",
        "          return lucky_numbers\r\n",
        "   \r\n",
        "a = int(input(\"Первый номер билета: \"))\r\n",
        "b = int(input(\"Последний номер билета: \"))\r\n",
        "\r\n",
        "for i in lucky_numbers:\r\n",
        "    print(lucky_numbers, end=\" \")\r\n",
        "\r\n",
        "# --------------\r\n",
        "# Пример вывода:\r\n",
        "#\r\n",
        "# Первый номер билета: 10\r\n",
        "# Последний номер билета: 25\r\n",
        "# 10 12 14 16 18 21 23 25\r\n"
      ],
      "execution_count": null,
      "outputs": [
        {
          "output_type": "stream",
          "text": [
            "Первый номер билета: 10\n",
            "Последний номер билета: 25\n"
          ],
          "name": "stdout"
        },
        {
          "output_type": "error",
          "ename": "TypeError",
          "evalue": "ignored",
          "traceback": [
            "\u001b[0;31m---------------------------------------------------------------------------\u001b[0m",
            "\u001b[0;31mTypeError\u001b[0m                                 Traceback (most recent call last)",
            "\u001b[0;32m<ipython-input-26-2b0b3ef176c6>\u001b[0m in \u001b[0;36m<module>\u001b[0;34m()\u001b[0m\n\u001b[1;32m     23\u001b[0m \u001b[0mb\u001b[0m \u001b[0;34m=\u001b[0m \u001b[0mint\u001b[0m\u001b[0;34m(\u001b[0m\u001b[0minput\u001b[0m\u001b[0;34m(\u001b[0m\u001b[0;34m\"Последний номер билета: \"\u001b[0m\u001b[0;34m)\u001b[0m\u001b[0;34m)\u001b[0m\u001b[0;34m\u001b[0m\u001b[0;34m\u001b[0m\u001b[0m\n\u001b[1;32m     24\u001b[0m \u001b[0;34m\u001b[0m\u001b[0m\n\u001b[0;32m---> 25\u001b[0;31m \u001b[0;32mfor\u001b[0m \u001b[0mi\u001b[0m \u001b[0;32min\u001b[0m \u001b[0mlucky_numbers\u001b[0m\u001b[0;34m:\u001b[0m\u001b[0;34m\u001b[0m\u001b[0;34m\u001b[0m\u001b[0m\n\u001b[0m\u001b[1;32m     26\u001b[0m     \u001b[0mprint\u001b[0m\u001b[0;34m(\u001b[0m\u001b[0mlucky_numbers\u001b[0m\u001b[0;34m,\u001b[0m \u001b[0mend\u001b[0m\u001b[0;34m=\u001b[0m\u001b[0;34m\" \"\u001b[0m\u001b[0;34m)\u001b[0m\u001b[0;34m\u001b[0m\u001b[0;34m\u001b[0m\u001b[0m\n\u001b[1;32m     27\u001b[0m \u001b[0;34m\u001b[0m\u001b[0m\n",
            "\u001b[0;31mTypeError\u001b[0m: 'function' object is not iterable"
          ]
        }
      ]
    },
    {
      "cell_type": "markdown",
      "metadata": {
        "id": "-UOtt231_MOH"
      },
      "source": [
        "№ 5.2.4\r\n",
        "\r\n",
        "Дата характеризуется тремя натуральными числами: день, месяц и год. Учитывая, что год может быть високосным, реализуйте две функции, которые определяют вчерашнюю и завтрашнюю дату."
      ]
    },
    {
      "cell_type": "code",
      "metadata": {
        "id": "tTpCRZ48_ZMw",
        "colab": {
          "base_uri": "https://localhost:8080/"
        },
        "outputId": "84e9dbd3-3018-4d2a-df18-d844aa38f08d"
      },
      "source": [
        "# Задание task_05_02_04.\r\n",
        "#\r\n",
        "# Выполнил: Фамилия И.О.\r\n",
        "# Группа: !!!\r\n",
        "# E-mail: !!!\r\n",
        "\r\n",
        "\r\n",
        "def is_leap(year):\r\n",
        "      if year == 366:\r\n",
        "          return True\r\n",
        "      else:\r\n",
        "          return False\r\n",
        "\r\n",
        "def days(month, year):\r\n",
        "      if month in (1, 3, 5, 7, 8, 10, 12):\r\n",
        "          return 31\r\n",
        "      elif month == 2 and year == 366:\r\n",
        "          return 29\r\n",
        "      elif month == 2:\r\n",
        "          return 28\r\n",
        "      else:\r\n",
        "          return 30\r\n",
        "   \r\n",
        "\r\n",
        "def previous_date(day, month, year):\r\n",
        "    if month == 1 and day == 1:\r\n",
        "        month = 12\r\n",
        "        year = year - 1 \r\n",
        "        return day, month, year\r\n",
        "    elif day == 1:\r\n",
        "        month = month - 1 \r\n",
        "        day = days in month\r\n",
        "    else:\r\n",
        "        return day, month, year\r\n",
        "\r\n",
        "\r\n",
        "def next_date(day, month, year):\r\n",
        "    if month == 12 and day == 31:\r\n",
        "        month = 1\r\n",
        "        year = year + 1 \r\n",
        "        return day, month, year\r\n",
        "    elif day == day in month:\r\n",
        "        month = month + 1 \r\n",
        "        day = 1\r\n",
        "    else:\r\n",
        "        day = day + 1 \r\n",
        "    return day, month, year\r\n",
        "\r\n",
        "\r\n",
        "day, month, year = input(\"Введите через пробел: \").split(' ')\r\n",
        "day = int(day)\r\n",
        "month = int(month)\r\n",
        "year = int(year)\r\n",
        "print(previous_date)\r\n",
        "print(next_date)\r\n",
        "\r\n",
        "# --------------\r\n",
        "# Пример вывода:\r\n",
        "#\r\n",
        "# День, месяц, год через пробел: 1 3 2000\r\n",
        "# Предыдущий день: 29/02/2000\r\n",
        "# Следующий день: 02/03/2000\r\n"
      ],
      "execution_count": null,
      "outputs": [
        {
          "output_type": "stream",
          "text": [
            "Введите через пробел: 1 3 2000\n",
            "<function previous_date at 0x7f5e0aa6a1e0>\n",
            "<function next_date at 0x7f5e0aa6a488>\n"
          ],
          "name": "stdout"
        }
      ]
    },
    {
      "cell_type": "markdown",
      "metadata": {
        "id": "PBMT8vmP_N2A"
      },
      "source": [
        "№ 5.2.5\r\n",
        "\r\n",
        "В задаче № 5.2.4 замените функции получения вчерашней и завтрашней даты на одну:\r\n",
        "\r\n",
        "def another_date(day, month, year, delta=1):\r\n",
        "    pass\r\n",
        "где delta - ключевой параметр, определяющий сколько дней необходимо добавить или вычесть (если аргумент отрицательный) из переданной даты. Функции, реализованные в задаче № 5.2.4 сделайте локальными для another_date(), вызывая их внутри необходимое количество раз."
      ]
    },
    {
      "cell_type": "code",
      "metadata": {
        "id": "X5vXHLmk_YGo",
        "colab": {
          "base_uri": "https://localhost:8080/"
        },
        "outputId": "c319bcd4-8ab2-4664-c627-8e429dc86241"
      },
      "source": [
        "# Задание task_05_02_05.\r\n",
        "#\r\n",
        "# Выполнил: Фамилия И.О.\r\n",
        "# Группа: !!!\r\n",
        "# E-mail: !!!\r\n",
        "\r\n",
        "\r\n",
        "def is_leap(year):\r\n",
        "      if year == 366:\r\n",
        "          return True\r\n",
        "      else:\r\n",
        "          return False\r\n",
        "\r\n",
        "\r\n",
        "def days(month, year):\r\n",
        "    if month in (1, 3, 5, 7, 8, 10, 12):\r\n",
        "          return 31\r\n",
        "    elif month == 2 and year == 366:\r\n",
        "          return 29\r\n",
        "    elif month == 2:\r\n",
        "          return 28\r\n",
        "    else:\r\n",
        "          return 30\r\n",
        "\r\n",
        "\r\n",
        "def another_date(day, month, year, delta=1):\r\n",
        "      if month == 1 and day == 1:\r\n",
        "        month = month - delta\r\n",
        "        year = year - delta\r\n",
        "        return day, month, year\r\n",
        "      elif day == 1:\r\n",
        "        month = month - delta \r\n",
        "        day = days in month\r\n",
        "      else:\r\n",
        "        return day, month, year\r\n",
        "    \r\n",
        "\r\n",
        "def previous_date(day, month, year):\r\n",
        "    if month == 1 and day == 1:\r\n",
        "        month = 12\r\n",
        "        year = year - 1 \r\n",
        "        return day, month, year\r\n",
        "    elif day == 1:\r\n",
        "        month = month - 1 \r\n",
        "        day = days in month\r\n",
        "    else:\r\n",
        "        return day, month, year\r\n",
        "\r\n",
        "\r\n",
        "\r\n",
        "def next_date(day, month, year):\r\n",
        "    if month == 12 and day == 31:\r\n",
        "        month = 1\r\n",
        "        year = year + 1 \r\n",
        "        return day, month, year\r\n",
        "    elif day == day in month:\r\n",
        "        month = month + 1 \r\n",
        "        day = 1\r\n",
        "    else:\r\n",
        "        day = day + 1 \r\n",
        "    return day, month, year\r\n",
        "\r\n",
        "\r\n",
        "day, month, year = input(\"Введите через пробел: \").split(' ')\r\n",
        "day = int(day)\r\n",
        "month = int(month)\r\n",
        "year = int(year)\r\n",
        "print(previous_date)\r\n",
        "print(next_date)\r\n",
        "\r\n",
        "\r\n",
        "\r\n",
        "# Удалите комментарий и допишите код\r\n",
        "\r\n",
        "# --------------\r\n",
        "# Пример вывода:\r\n",
        "#\r\n",
        "# День, месяц, год через пробел: 1 1 2000\r\n",
        "# Свдиг (может быть отрицательным): -2\r\n",
        "# Новый день: 30/12/1999\r\n",
        "#\r\n",
        "# День, месяц, год через пробел: 1 1 2000\r\n",
        "# Свдиг (может быть отрицательным): 2\r\n",
        "# Новый день: 03/01/2000\r\n"
      ],
      "execution_count": null,
      "outputs": [
        {
          "output_type": "stream",
          "text": [
            "Введите через пробел: 1 1 2000\n",
            "<function previous_date at 0x7f5e0a10db70>\n",
            "<function next_date at 0x7f5e0a10dae8>\n"
          ],
          "name": "stdout"
        }
      ]
    },
    {
      "cell_type": "markdown",
      "metadata": {
        "id": "wvtCj17j_TmZ"
      },
      "source": [
        "№ 5.2.6\r\n",
        "\r\n",
        "Дан список из чисел.\r\n",
        "\r\n",
        "Определите их НОК (наименьшее общее кратное) и НОД (наибольший общий делитель)"
      ]
    },
    {
      "cell_type": "code",
      "metadata": {
        "id": "dZxcBXAp_Xgd"
      },
      "source": [
        "# Выполнил: Фамилия И.О.\r\n",
        "# Группа: !!!\r\n",
        "# E-mail: !!!\r\n",
        "\r\n",
        "\r\n",
        "def gcd(first, second):\r\n",
        "    \"\"\"Вернуть НОД целых чисел 'first' и 'second'.\"\"\"\r\n",
        "    # Удалите комментарий и допишите код\r\n",
        "\r\n",
        "\r\n",
        "def lcm(first, second):\r\n",
        "    \"\"\"Вернуть НОК целых чисел 'first' и 'second'.\"\"\"\r\n",
        "    # Удалите комментарий и допишите код\r\n",
        "\r\n",
        "\r\n",
        "def gcd_nums(nums):\r\n",
        "    \"\"\"Вернуть НОД чисел из списка 'nums'.\r\n",
        "\r\n",
        "    Параметры:\r\n",
        "        !!!.\r\n",
        "\r\n",
        "    Результат:\r\n",
        "        !!!.\r\n",
        "    \"\"\"\r\n",
        "    # Удалите комментарий и допишите код\r\n",
        "\r\n",
        "\r\n",
        "def lcm_nums(nums):\r\n",
        "    \"\"\"Вернуть НОК чисел из списка 'nums'.\r\n",
        "\r\n",
        "    Параметры:\r\n",
        "        !!!.\r\n",
        "\r\n",
        "    Результат:\r\n",
        "        !!!.\r\n",
        "    \"\"\"\r\n",
        "    # Удалите комментарий и допишите код\r\n",
        "\r\n",
        "\r\n",
        "nums = # Удалите комментарий и допишите код\r\n",
        "\r\n",
        "# Удалите комментарий и допишите код\r\n",
        "\r\n",
        "# --------------\r\n",
        "# Пример вывода:\r\n",
        "#\r\n",
        "# Введите числа через пробел: 8 10 14\r\n",
        "# НОД = 2\r\n",
        "# НОК = 280\r\n",
        "#\r\n",
        "# Введите числа через пробел: 6 8 24 16\r\n",
        "# НОД = 2\r\n",
        "# НОК = 48\r\n"
      ],
      "execution_count": null,
      "outputs": []
    },
    {
      "cell_type": "markdown",
      "metadata": {
        "id": "qt6BEQjTxm7F"
      },
      "source": [
        "№ 5.2.7\r\n",
        "\r\n",
        "Даны n предложений. Определите, сколько из них содержат хотя бы одну цифру."
      ]
    },
    {
      "cell_type": "code",
      "metadata": {
        "id": "qHXo0oCnxtyl",
        "colab": {
          "base_uri": "https://localhost:8080/"
        },
        "outputId": "2a9cff6e-43ef-4cf8-8e38-6e4834591b63"
      },
      "source": [
        "def has_digits(sentence):\r\n",
        "    if sentence.isalpha():\r\n",
        "      return False\r\n",
        "    else:\r\n",
        "      return True\r\n",
        "\r\n",
        "def sentences_with_digits_count(sentences):\r\n",
        "    counter = 0\r\n",
        "    for sentence in sentences:\r\n",
        "        if has_digits(sentence):\r\n",
        "            counter = counter + 1\r\n",
        "    return counter\r\n",
        "\r\n",
        "sentences = []\r\n",
        "n = int(input(\"Введите n: \"))\r\n",
        "for i in range(n):\r\n",
        "    sentence = input('Введите предложение: ')\r\n",
        "    sentences.append(sentence)\r\n",
        "k = sentences_with_digits_count(sentences)\r\n",
        "print('Предложений с цифрой: ', k)\r\n",
        "\r\n",
        "# --------------\r\n",
        "# Пример вывода:\r\n",
        "#\r\n",
        "# Введите количество предложений: 3\r\n",
        "# Введите предложение №1:\r\n",
        "# Просто текст\r\n",
        "# Введите предложение №2:\r\n",
        "# Текст с цифрой 1 (один)\r\n",
        "# Введите предложение №3:\r\n",
        "# Тут нет цифры\r\n",
        "# Предложений с цифрой = 1\r\n"
      ],
      "execution_count": null,
      "outputs": [
        {
          "output_type": "stream",
          "text": [
            "Введите n: 3\n",
            "Введите предложение: пп\n",
            "Введите предложение: пп 1\n",
            "Введите предложение: нет\n",
            "Предложений с цифрой:  1\n"
          ],
          "name": "stdout"
        }
      ]
    },
    {
      "cell_type": "markdown",
      "metadata": {
        "id": "79A5uqesyo_E"
      },
      "source": [
        "№ 5.2.8\r\n",
        "\r\n",
        "Дана строка s и символ k. Реализуйте функцию, рисующую рамку из символа k вокруг данной строки, например:"
      ]
    },
    {
      "cell_type": "code",
      "metadata": {
        "id": "Qu3h6K0_yoAR",
        "colab": {
          "base_uri": "https://localhost:8080/"
        },
        "outputId": "8941cb76-0354-4711-c08c-da8e80e9a00f"
      },
      "source": [
        "# Задание task_05_02_08.\r\n",
        "#\r\n",
        "# Выполнил: Фамилия И.О.\r\n",
        "# Группа: !!!\r\n",
        "# E-mail: !!!\r\n",
        "\r\n",
        "\r\n",
        "def print_with_border(string, char):\r\n",
        "  for i in string:\r\n",
        "      print(char, end=\" \")\r\n",
        "  print(\"\")\r\n",
        "  print(string)\r\n",
        "  for i in string:\r\n",
        "      print(char, end=\" \")\r\n",
        "    \r\n",
        "s = input(\"Введите строку: \")\r\n",
        "k = input(\"Введите символ: \")\r\n",
        "print_with_border(s, k)\r\n",
        "\r\n",
        "# --------------\r\n",
        "# Пример вывода:\r\n",
        "#\r\n",
        "# Введите строку: Просто текст\r\n",
        "# Введите символ: +\r\n",
        "# ++++++++++++++\r\n",
        "# +Просто текст+\r\n",
        "# ++++++++++++++\r\n",
        "\r\n"
      ],
      "execution_count": null,
      "outputs": [
        {
          "output_type": "stream",
          "text": [
            "Введите строку:просто текст\n",
            "Введите символ:*\n",
            "* * * * * * * * * * * * \n",
            "просто текст\n",
            "* * * * * * * * * * * * "
          ],
          "name": "stdout"
        }
      ]
    },
    {
      "cell_type": "markdown",
      "metadata": {
        "id": "Xvmpi9wL6Muq"
      },
      "source": [
        "№ 5.2.10\r\n",
        "\r\n",
        "Для введенного предложения выведите статистику символ=количество. Регистр букв не учитывается."
      ]
    },
    {
      "cell_type": "code",
      "metadata": {
        "id": "gFrasNNA6QaB"
      },
      "source": [
        "def sentence_stats(sentence):\r\n",
        "\r\n",
        "\"\"\"Вернуть символьную статистику 'sentence'. Регистр не учитывается.\r\n",
        "\r\n",
        "!!!\r\n",
        "\r\n",
        "\"\"\"\r\n",
        "\r\n",
        "d = {}\r\n",
        "for i in sentence:\r\n",
        "    if i in d:\r\n",
        "        d[i] = d[i] + 1\r\n",
        "    else:\r\n",
        "        d[i] = 1\r\n",
        "return d\r\n",
        "\r\n",
        "s = input('Введите предложение: ')"
      ],
      "execution_count": null,
      "outputs": []
    }
  ]
}